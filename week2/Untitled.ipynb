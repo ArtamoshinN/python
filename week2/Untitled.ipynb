{
 "cells": [
  {
   "cell_type": "code",
   "execution_count": 2,
   "metadata": {},
   "outputs": [
    {
     "name": "stdout",
     "output_type": "stream",
     "text": [
      "-5\n",
      "-1\n",
      "3\n"
     ]
    }
   ],
   "source": [
    "x = int(input())\n",
    "y = int(input())\n",
    "if x > 0:\n",
    "    if y > 0:\n",
    "        print(1)\n",
    "    else:\n",
    "        print(4)\n",
    "else:\n",
    "    if y > 0:\n",
    "        print(2)\n",
    "    else:\n",
    "        print(3)"
   ]
  },
  {
   "cell_type": "code",
   "execution_count": 6,
   "metadata": {},
   "outputs": [
    {
     "name": "stdout",
     "output_type": "stream",
     "text": [
      "4\n",
      "Other\n"
     ]
    }
   ],
   "source": [
    "x = int(input())\n",
    "if x == 1:\n",
    "    print('One')\n",
    "elif x == 2:\n",
    "    print('Two')\n",
    "elif x == 3:\n",
    "    print('Three')\n",
    "else:\n",
    "    print('Other')"
   ]
  },
  {
   "cell_type": "code",
   "execution_count": 9,
   "metadata": {},
   "outputs": [
    {
     "name": "stdout",
     "output_type": "stream",
     "text": [
      "2\n",
      "2\n",
      "0\n"
     ]
    }
   ],
   "source": [
    "x = int(input())\n",
    "y = int(input())\n",
    "if x > y:\n",
    "    print(1)\n",
    "elif x < y:\n",
    "    print(2)\n",
    "else:\n",
    "    print(0)"
   ]
  },
  {
   "cell_type": "code",
   "execution_count": 14,
   "metadata": {},
   "outputs": [
    {
     "name": "stdout",
     "output_type": "stream",
     "text": [
      "3\n",
      "1\n",
      "2\n",
      "3\n"
     ]
    }
   ],
   "source": [
    "x = int(input())\n",
    "y = int(input())\n",
    "z = int(input())\n",
    "if x > y:\n",
    "    if x > z:\n",
    "        print(x)\n",
    "    else:\n",
    "        print(z)\n",
    "else:\n",
    "    if y > z:\n",
    "        print(y)\n",
    "    else:\n",
    "        print(z)"
   ]
  },
  {
   "cell_type": "code",
   "execution_count": 29,
   "metadata": {},
   "outputs": [
    {
     "name": "stdout",
     "output_type": "stream",
     "text": [
      "800\n",
      "YES\n"
     ]
    }
   ],
   "source": [
    "x = int(input())\n",
    "if (x % 4 == 0) and (x % 100 != 0):\n",
    "    print('YES')\n",
    "elif (x % 400 == 0):\n",
    "    print('YES')\n",
    "else:\n",
    "    print('NO')"
   ]
  },
  {
   "cell_type": "code",
   "execution_count": 3,
   "metadata": {},
   "outputs": [
    {
     "name": "stdout",
     "output_type": "stream",
     "text": [
      "1\n",
      "2\n",
      "4\n",
      "5\n",
      "NO\n"
     ]
    }
   ],
   "source": [
    "y1 = int(input())\n",
    "x1 = int(input())\n",
    "y2 = int(input())\n",
    "x2 = int(input())\n",
    "if (y1 - y2 == 1) or (y1 - y2 == -1) or (y1 - y2 == 0):\n",
    "    if (x1 - x2 == 1) or (x1 - x2 == -1) or (x1 - x2 == 0):\n",
    "        print('YES')\n",
    "    else:\n",
    "        print('NO')\n",
    "else:\n",
    "    print('NO')"
   ]
  },
  {
   "cell_type": "code",
   "execution_count": 4,
   "metadata": {},
   "outputs": [
    {
     "name": "stdout",
     "output_type": "stream",
     "text": [
      "7\n",
      "9\n",
      "YES\n"
     ]
    }
   ],
   "source": [
    "x = int(input())\n",
    "y = int(input())\n",
    "if y % (y - x + 1) == 0:\n",
    "    print('YES')\n",
    "else:\n",
    "    print('NO')"
   ]
  },
  {
   "cell_type": "code",
   "execution_count": 5,
   "metadata": {},
   "outputs": [
    {
     "name": "stdout",
     "output_type": "stream",
     "text": [
      "1\n",
      "1\n",
      "1\n",
      "1\n",
      "YES\n"
     ]
    }
   ],
   "source": [
    "y1 = int(input())\n",
    "x1 = int(input())\n",
    "y2 = int(input())\n",
    "x2 = int(input())\n",
    "if ((y1 - y2) % 2 == 1) and ((x1 - x2) % 2 == 1):\n",
    "    print('YES')\n",
    "elif ((y1 - y2) % 2 == 0) and ((x1 - x2) % 2 == 0):\n",
    "    print('YES')\n",
    "else:\n",
    "    print('NO')"
   ]
  },
  {
   "cell_type": "code",
   "execution_count": 7,
   "metadata": {},
   "outputs": [
    {
     "name": "stdout",
     "output_type": "stream",
     "text": [
      "2\n",
      "2\n",
      "6\n",
      "NO\n"
     ]
    }
   ],
   "source": [
    "n = int(input())\n",
    "m = int(input())\n",
    "k = int(input())\n",
    "if (m <= k) and (k % m == 0) and (m * n > k):\n",
    "    print('YES')\n",
    "elif (n <= k) and (k % n == 0) and (m * n > k):\n",
    "    print('YES')\n",
    "else:\n",
    "    print('NO')"
   ]
  },
  {
   "cell_type": "code",
   "execution_count": 7,
   "metadata": {},
   "outputs": [
    {
     "name": "stdout",
     "output_type": "stream",
     "text": [
      "31\n",
      "31 korova\n"
     ]
    }
   ],
   "source": [
    "n = int(input())\n",
    "if (n % 10 == 1) and (n != 11):\n",
    "    print(n, 'korova')\n",
    "elif (n > 21) or (n < 5):\n",
    "    if (n % 10 == 2) or (n % 10 == 3) or (n % 10 == 4):\n",
    "        print(n, 'korovy')\n",
    "    else:\n",
    "        print(n, 'korov')\n",
    "else:\n",
    "    print(n, 'korov')"
   ]
  },
  {
   "cell_type": "code",
   "execution_count": 4,
   "metadata": {},
   "outputs": [
    {
     "name": "stdout",
     "output_type": "stream",
     "text": [
      "-10\n",
      "-1\n"
     ]
    }
   ],
   "source": [
    "x = int(input())\n",
    "if x >= 0:\n",
    "    if x == 0:\n",
    "        print(0)\n",
    "    else:\n",
    "        print(1)\n",
    "else:\n",
    "    print(-1)"
   ]
  },
  {
   "cell_type": "code",
   "execution_count": 3,
   "metadata": {},
   "outputs": [
    {
     "name": "stdout",
     "output_type": "stream",
     "text": [
      "2\n",
      "1\n",
      "3\n",
      "-1\n",
      "NO\n"
     ]
    }
   ],
   "source": [
    "x1 = int(input())\n",
    "y1 = int(input())\n",
    "x2 = int(input())\n",
    "y2 = int(input())\n",
    "if (x1 > 0) and (y1 > 0) and (x2 > 0) and (y2 > 0):\n",
    "    print('YES')\n",
    "elif (x1 > 0) and (y1 < 0) and (x2 > 0) and (y2 < 0):\n",
    "    print('YES')\n",
    "elif (x1 < 0) and (y1 > 0) and (x2 < 0) and (y2 > 0):\n",
    "    print('YES')\n",
    "elif (x1 < 0) and (y1 < 0) and (x2 < 0) and (y2 < 0):\n",
    "    print('YES')\n",
    "else:\n",
    "    print('NO')"
   ]
  },
  {
   "cell_type": "code",
   "execution_count": 9,
   "metadata": {},
   "outputs": [
    {
     "name": "stdout",
     "output_type": "stream",
     "text": [
      "1\n",
      "1\n",
      "6\n",
      "2\n",
      "YES\n"
     ]
    }
   ],
   "source": [
    "y1 = int(input())\n",
    "x1 = int(input())\n",
    "y2 = int(input())\n",
    "x2 = int(input())\n",
    "if ((y2 + x2) % 2 == 0) and ((y1 + x1) % 2 == 0):\n",
    "    if (y2 > y1):\n",
    "        if ((y2 - y1) >= (x1 - x2)) and ((y2 - y1) >= (x2 - x1)):\n",
    "            print('YES')\n",
    "        else:\n",
    "            print('NO')\n",
    "    else:\n",
    "        print('NO')\n",
    "else:\n",
    "    print('NO')"
   ]
  },
  {
   "cell_type": "code",
   "execution_count": null,
   "metadata": {
    "collapsed": true
   },
   "outputs": [],
   "source": []
  }
 ],
 "metadata": {
  "kernelspec": {
   "display_name": "Python 3",
   "language": "python",
   "name": "python3"
  },
  "language_info": {
   "codemirror_mode": {
    "name": "ipython",
    "version": 3
   },
   "file_extension": ".py",
   "mimetype": "text/x-python",
   "name": "python",
   "nbconvert_exporter": "python",
   "pygments_lexer": "ipython3",
   "version": "3.6.1"
  }
 },
 "nbformat": 4,
 "nbformat_minor": 2
}
