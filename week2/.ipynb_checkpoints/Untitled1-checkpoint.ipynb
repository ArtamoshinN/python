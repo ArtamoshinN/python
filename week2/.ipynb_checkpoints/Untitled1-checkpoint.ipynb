{
 "cells": [
  {
   "cell_type": "code",
   "execution_count": 4,
   "metadata": {},
   "outputs": [
    {
     "name": "stdout",
     "output_type": "stream",
     "text": [
      "123456789101112131415161718192021222324252627282930313233343536373839404142434445464748495051525354555657585960616263646566676869707172737475767778798081828384858687888990919293949596979899100!\n"
     ]
    }
   ],
   "source": [
    "i = 1\n",
    "while i <= 100:\n",
    "    print(i, end=' ')\n",
    "    i = i + 1\n",
    "print('!')"
   ]
  },
  {
   "cell_type": "code",
   "execution_count": null,
   "metadata": {
    "collapsed": true
   },
   "outputs": [],
   "source": [
    "now = int(input())\n",
    "maxNum = now\n",
    "while now != 0:\n",
    "    now = int(input())\n",
    "    if now != 0 and now > maxNum:\n",
    "        maxNum = now\n",
    "print(maxNum)"
   ]
  },
  {
   "cell_type": "code",
   "execution_count": 11,
   "metadata": {},
   "outputs": [
    {
     "name": "stdout",
     "output_type": "stream",
     "text": [
      "10\n",
      "1 4 9 "
     ]
    }
   ],
   "source": [
    "n = int(input())\n",
    "i = 1\n",
    "while i ** 2 <= n:\n",
    "    print(i ** 2, end=' ')\n",
    "    i = i + 1"
   ]
  },
  {
   "cell_type": "code",
   "execution_count": 27,
   "metadata": {},
   "outputs": [
    {
     "name": "stdout",
     "output_type": "stream",
     "text": [
      "15\n",
      "3\n"
     ]
    }
   ],
   "source": [
    "n = int(input())\n",
    "i = 1\n",
    "while i <= n:\n",
    "    if n % i == 0 and i != 1:\n",
    "        break\n",
    "    else:\n",
    "        i = i + 1\n",
    "print(i)"
   ]
  },
  {
   "cell_type": "code",
   "execution_count": 35,
   "metadata": {},
   "outputs": [
    {
     "name": "stdout",
     "output_type": "stream",
     "text": [
      "50\n",
      "1\n",
      "2\n",
      "4\n",
      "8\n",
      "16\n",
      "32\n"
     ]
    }
   ],
   "source": [
    "n = int(input())\n",
    "i = 1\n",
    "while i <= n:\n",
    "    print(i)\n",
    "    i = i * 2"
   ]
  },
  {
   "cell_type": "code",
   "execution_count": 44,
   "metadata": {},
   "outputs": [
    {
     "name": "stdout",
     "output_type": "stream",
     "text": [
      "12\n",
      "NO\n"
     ]
    }
   ],
   "source": [
    "n = int(input())\n",
    "i = 1\n",
    "while i != n and i < n:\n",
    "    i = i * 2\n",
    "if i == n:\n",
    "    print('YES')\n",
    "else:\n",
    "    print('NO')"
   ]
  },
  {
   "cell_type": "code",
   "execution_count": 89,
   "metadata": {},
   "outputs": [
    {
     "name": "stdout",
     "output_type": "stream",
     "text": [
      "15\n",
      "4\n"
     ]
    }
   ],
   "source": [
    "n = int(input())\n",
    "i = 1\n",
    "k = 0\n",
    "while i < n:\n",
    "    i = i * 2\n",
    "    k = k + 1\n",
    "print(k)"
   ]
  },
  {
   "cell_type": "code",
   "execution_count": 2,
   "metadata": {},
   "outputs": [
    {
     "name": "stdout",
     "output_type": "stream",
     "text": [
      "1\n",
      "1\n",
      "1\n"
     ]
    }
   ],
   "source": [
    "x = int(input())\n",
    "y = int(input())\n",
    "i = 1\n",
    "while x < y:\n",
    "    x = x * 1.1\n",
    "    i = i + 110\n",
    "print(i)"
   ]
  },
  {
   "cell_type": "code",
   "execution_count": null,
   "metadata": {
    "collapsed": true
   },
   "outputs": [],
   "source": [
    "now = int(input())\n",
    "maxNum = now\n",
    "while now != 0:\n",
    "    now = int(input())\n",
    "    if now != 0 and now > maxNum:\n",
    "        maxNum = now\n",
    "print(maxNum)"
   ]
  },
  {
   "cell_type": "code",
   "execution_count": 11,
   "metadata": {},
   "outputs": [
    {
     "name": "stdout",
     "output_type": "stream",
     "text": [
      "0\n"
     ]
    }
   ],
   "source": [
    "now = -1\n",
    "while now != 0:\n",
    "    now = int(input())\n",
    "    if now <= 0:\n",
    "        continue\n",
    "    print(now)"
   ]
  },
  {
   "cell_type": "code",
   "execution_count": 14,
   "metadata": {},
   "outputs": [
    {
     "name": "stdout",
     "output_type": "stream",
     "text": [
      "3\n",
      "14\n"
     ]
    }
   ],
   "source": [
    "n = int(input())#sum**2\n",
    "sum = 0\n",
    "i = 1\n",
    "while i <= n:\n",
    "    sum += i ** 2\n",
    "    i += 1\n",
    "print(sum)"
   ]
  },
  {
   "cell_type": "code",
   "execution_count": 17,
   "metadata": {},
   "outputs": [
    {
     "name": "stdout",
     "output_type": "stream",
     "text": [
      "1\n",
      "2\n",
      "4\n",
      "0\n",
      "3\n"
     ]
    }
   ],
   "source": [
    "n = int(input())\n",
    "i = 0\n",
    "while n != 0:\n",
    "    n = int(input())\n",
    "    i += 1\n",
    "print(i)"
   ]
  },
  {
   "cell_type": "code",
   "execution_count": 19,
   "metadata": {},
   "outputs": [
    {
     "name": "stdout",
     "output_type": "stream",
     "text": [
      "3\n",
      "7\n",
      "9\n",
      "0\n",
      "19\n"
     ]
    }
   ],
   "source": [
    "n = int(input())\n",
    "i = 0\n",
    "while n != 0:\n",
    "    i += n\n",
    "    n = int(input())\n",
    "print(i)"
   ]
  },
  {
   "cell_type": "code",
   "execution_count": 20,
   "metadata": {},
   "outputs": [
    {
     "name": "stdout",
     "output_type": "stream",
     "text": [
      "2\n",
      "5\n",
      "0\n",
      "3.5\n"
     ]
    }
   ],
   "source": [
    "n = int(input())\n",
    "sum = 0\n",
    "i = 0\n",
    "while n != 0:\n",
    "    sum += n\n",
    "    i += 1\n",
    "    n = int(input())\n",
    "print(sum / i)"
   ]
  },
  {
   "cell_type": "code",
   "execution_count": 24,
   "metadata": {},
   "outputs": [
    {
     "name": "stdout",
     "output_type": "stream",
     "text": [
      "2\n",
      "3\n",
      "4\n",
      "5\n",
      "6\n",
      "0\n",
      "3\n"
     ]
    }
   ],
   "source": [
    "n = int(input())\n",
    "i = 0\n",
    "while n != 0:\n",
    "    if n % 2 == 0:\n",
    "        i += 1\n",
    "    n = int(input())\n",
    "print(i)"
   ]
  },
  {
   "cell_type": "code",
   "execution_count": 3,
   "metadata": {},
   "outputs": [
    {
     "name": "stdout",
     "output_type": "stream",
     "text": [
      "1\n",
      "2\n",
      "3\n",
      "4\n",
      "5\n",
      "6\n",
      "0\n",
      "5\n"
     ]
    }
   ],
   "source": [
    "n1 = int(input())\n",
    "n2 = n1\n",
    "i = 0\n",
    "while n2 != 0:\n",
    "    n2 = int(input())\n",
    "    if n2 > n1:\n",
    "        i += 1\n",
    "        n1 = n2\n",
    "    n1 = n2\n",
    "print(i)"
   ]
  },
  {
   "cell_type": "code",
   "execution_count": null,
   "metadata": {
    "collapsed": true
   },
   "outputs": [],
   "source": [
    "n = int(input())\n",
    "n1 = 0\n",
    "n2 = 0\n",
    "while n != 0:\n",
    "    if n >= n1:\n",
    "        n2 = n1\n",
    "        n1 = n\n",
    "    elif n >= n2:\n",
    "        n2 = n\n",
    "    n = int(input())\n",
    "print(n2)"
   ]
  },
  {
   "cell_type": "code",
   "execution_count": 10,
   "metadata": {},
   "outputs": [
    {
     "name": "stdout",
     "output_type": "stream",
     "text": [
      "1\n",
      "1\n",
      "2\n",
      "2\n",
      "2\n",
      "0\n",
      "3\n"
     ]
    }
   ],
   "source": [
    "n = int(input())\n",
    "max = 0\n",
    "while n != 0:\n",
    "    if max <= n:\n",
    "        if max == n:\n",
    "            i += 1\n",
    "        else:\n",
    "            i = 1\n",
    "            max = n\n",
    "    n = int(input())\n",
    "if max == 0:\n",
    "    i = 0\n",
    "print(i)"
   ]
  },
  {
   "cell_type": "code",
   "execution_count": 16,
   "metadata": {},
   "outputs": [
    {
     "name": "stdout",
     "output_type": "stream",
     "text": [
      "1023\n",
      "1\n",
      "-1\n",
      ":2\n",
      "-1\n",
      ":2\n",
      "-1\n",
      ":2\n",
      "-1\n",
      ":2\n",
      "-1\n",
      ":2\n",
      "-1\n",
      ":2\n",
      "-1\n",
      ":2\n",
      "-1\n",
      ":2\n",
      "-1\n",
      ":2\n"
     ]
    }
   ],
   "source": [
    "a = int(input())\n",
    "b = int(input())\n",
    "while a != b:\n",
    "    if a % 2 == 0 and a >= 2 * b:\n",
    "        a = a // 2\n",
    "        print(':2')\n",
    "    else:\n",
    "        a = a - 1\n",
    "        print('-1')"
   ]
  },
  {
   "cell_type": "code",
   "execution_count": 7,
   "metadata": {},
   "outputs": [
    {
     "name": "stdout",
     "output_type": "stream",
     "text": [
      "1\n",
      "1"
     ]
    }
   ],
   "source": [
    "n = int(input())\n",
    "i = 1\n",
    "print(n % 10, end='')\n",
    "while i < int(len(str(n))):\n",
    "    print(n // (10 ** i) % 10, end='')\n",
    "    i += 1"
   ]
  },
  {
   "cell_type": "code",
   "execution_count": 21,
   "metadata": {},
   "outputs": [
    {
     "name": "stdout",
     "output_type": "stream",
     "text": [
      "111\n",
      "111\n",
      "111\n",
      "111\n",
      "111\n",
      "000\n",
      "5\n"
     ]
    }
   ],
   "source": [
    "n1 = int(input())\n",
    "i = 1\n",
    "j = 0\n",
    "while n1 != 0:\n",
    "    n2 = int(input())\n",
    "    if n1 == n2:\n",
    "        i += 1\n",
    "    elif i >= j:\n",
    "        j = i\n",
    "        i = 1\n",
    "    n1 = n2\n",
    "print(j)"
   ]
  },
  {
   "cell_type": "code",
   "execution_count": null,
   "metadata": {
    "collapsed": true
   },
   "outputs": [],
   "source": [
    "a = -1\n",
    "b = 0\n",
    "m = 0\n",
    "n = int(input())\n",
    "while n != 0:\n",
    "    if a == n:\n",
    "        b += 1\n",
    "    else:\n",
    "        a = n\n",
    "        m = max(m, b)\n",
    "        b = 1\n",
    "    n = int(input())\n",
    "m = max(m, b)\n",
    "print(m)"
   ]
  },
  {
   "cell_type": "code",
   "execution_count": 1,
   "metadata": {},
   "outputs": [
    {
     "name": "stdout",
     "output_type": "stream",
     "text": [
      "100\n",
      "200\n",
      "1\n",
      "2\n",
      "2\n",
      "3\n",
      "0\n"
     ]
    }
   ],
   "source": [
    "x1 = int(input())\n",
    "x2 = int(input())\n",
    "x3 = int(input())\n",
    "y1 = int(input())\n",
    "y2 = int(input())\n",
    "y3 = int(input())\n",
    "k1 = 0\n",
    "if x1 // y1 > 0 and x2 // y2 > 0 and x3 // y3 > 0:\n",
    "    k1 = (x1 // y1) * (x2 // y2) * (x3 // y3)\n",
    "if x1 // y1 > 0 and x2 // y3 > 0 and x3 // y2 > 0:\n",
    "    if k1 <= (x1 // y1) * (x2 // y3) * (x3 // y2):\n",
    "        k1 = (x1 // y1) * (x2 // y3) * (x3 // y2)\n",
    "if x1 // y2 > 0 and x2 // y1 > 0 and x3 // y3 > 0:\n",
    "    if k1 <= (x1 // y2) * (x2 // y1) * (x3 // y3):\n",
    "        k1 = (x1 // y2) * (x2 // y1) * (x3 // y3)\n",
    "if x1 // y2 > 0 and x2 // y3 > 0 and x3 // y1 > 0:\n",
    "    if k1 <= (x1 // y2) * (x2 // y3) * (x3 // y1):\n",
    "        k1 = (x1 // y2) * (x2 // y3) * (x3 // y1)\n",
    "if x1 // y1 > 0 and x2 // y2 > 0 and x3 // y3 > 0:\n",
    "    if k1 <= (x1 // y3) * (x2 // y1) * (x3 // y2):\n",
    "        k1 = (x1 // y3) * (x2 // y1) * (x3 // y2)\n",
    "if x1 // y1 > 0 and x2 // y2 > 0 and x3 // y3 > 0:\n",
    "    if k1 <= (x1 // y3) * (x2 // y2) * (x3 // y1):\n",
    "        k1 = (x1 // y3) * (x2 // y2) * (x3 // y1)\n",
    "print(k1)"
   ]
  },
  {
   "cell_type": "code",
   "execution_count": null,
   "metadata": {
    "collapsed": true
   },
   "outputs": [],
   "source": []
  },
  {
   "cell_type": "code",
   "execution_count": null,
   "metadata": {
    "collapsed": true
   },
   "outputs": [],
   "source": []
  }
 ],
 "metadata": {
  "kernelspec": {
   "display_name": "Python 3",
   "language": "python",
   "name": "python3"
  },
  "language_info": {
   "codemirror_mode": {
    "name": "ipython",
    "version": 3
   },
   "file_extension": ".py",
   "mimetype": "text/x-python",
   "name": "python",
   "nbconvert_exporter": "python",
   "pygments_lexer": "ipython3",
   "version": "3.6.1"
  }
 },
 "nbformat": 4,
 "nbformat_minor": 2
}
