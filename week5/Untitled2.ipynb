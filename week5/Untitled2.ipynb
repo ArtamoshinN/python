{
 "cells": [
  {
   "cell_type": "code",
   "execution_count": 7,
   "metadata": {},
   "outputs": [
    {
     "name": "stdout",
     "output_type": "stream",
     "text": [
      "1 2 3 4\n"
     ]
    },
    {
     "ename": "IndexError",
     "evalue": "list index out of range",
     "output_type": "error",
     "traceback": [
      "\u001b[0;31m---------------------------------------------------------------------------\u001b[0m",
      "\u001b[0;31mIndexError\u001b[0m                                Traceback (most recent call last)",
      "\u001b[0;32m<ipython-input-7-3331d3309075>\u001b[0m in \u001b[0;36m<module>\u001b[0;34m()\u001b[0m\n\u001b[1;32m      2\u001b[0m \u001b[0mk\u001b[0m \u001b[0;34m=\u001b[0m \u001b[0;36m1\u001b[0m\u001b[0;34m\u001b[0m\u001b[0m\n\u001b[1;32m      3\u001b[0m \u001b[0;32mfor\u001b[0m \u001b[0mi\u001b[0m \u001b[0;32min\u001b[0m \u001b[0mrange\u001b[0m\u001b[0;34m(\u001b[0m\u001b[0mlen\u001b[0m\u001b[0;34m(\u001b[0m\u001b[0ma\u001b[0m\u001b[0;34m)\u001b[0m \u001b[0;34m-\u001b[0m \u001b[0mk\u001b[0m\u001b[0;34m)\u001b[0m\u001b[0;34m:\u001b[0m\u001b[0;34m\u001b[0m\u001b[0m\n\u001b[0;32m----> 4\u001b[0;31m     \u001b[0;32mif\u001b[0m \u001b[0ma\u001b[0m\u001b[0;34m[\u001b[0m\u001b[0mi\u001b[0m\u001b[0;34m]\u001b[0m \u001b[0;34m%\u001b[0m \u001b[0;36m2\u001b[0m \u001b[0;34m!=\u001b[0m \u001b[0;36m0\u001b[0m\u001b[0;34m:\u001b[0m\u001b[0;34m\u001b[0m\u001b[0m\n\u001b[0m\u001b[1;32m      5\u001b[0m         \u001b[0ma\u001b[0m\u001b[0;34m.\u001b[0m\u001b[0mpop\u001b[0m\u001b[0;34m(\u001b[0m\u001b[0mi\u001b[0m\u001b[0;34m)\u001b[0m\u001b[0;34m\u001b[0m\u001b[0m\n\u001b[1;32m      6\u001b[0m     \u001b[0;32melse\u001b[0m\u001b[0;34m:\u001b[0m\u001b[0;34m\u001b[0m\u001b[0m\n",
      "\u001b[0;31mIndexError\u001b[0m: list index out of range"
     ]
    }
   ],
   "source": [
    "a = list(map(int, input().split()))\n",
    "for i in range(len(a)):\n",
    "    if a[i] % 2 != 0:\n",
    "        a.pop(i)\n",
    "print(*a)"
   ]
  },
  {
   "cell_type": "code",
   "execution_count": 5,
   "metadata": {},
   "outputs": [
    {
     "name": "stdout",
     "output_type": "stream",
     "text": [
      "1 2 3 4\n",
      "[2, 4]\n"
     ]
    }
   ],
   "source": [
    "a = list(map(int, input().split()))\n",
    "i = 0\n",
    "while i < len(a):\n",
    "    if a[i] % 2 != 0:\n",
    "        a.pop(i)\n",
    "    else:\n",
    "        i += 1\n",
    "print(*a)"
   ]
  },
  {
   "cell_type": "code",
   "execution_count": 8,
   "metadata": {},
   "outputs": [
    {
     "name": "stdout",
     "output_type": "stream",
     "text": [
      "1 2 3 4\n",
      "2 4\n"
     ]
    }
   ],
   "source": [
    "a = list(map(int, input().split()))\n",
    "b = []\n",
    "for now in a:\n",
    "    if now % 2 == 0:\n",
    "        b.append(now)\n",
    "print(*b)"
   ]
  },
  {
   "cell_type": "code",
   "execution_count": 26,
   "metadata": {},
   "outputs": [
    {
     "name": "stdout",
     "output_type": "stream",
     "text": [
      "3\n",
      "1 3 10\n",
      "8\n",
      "3\n"
     ]
    }
   ],
   "source": [
    "k = int(input())\n",
    "n = list(map(int, input().split()))\n",
    "b = int(input())\n",
    "i = 0\n",
    "c = 0\n",
    "while i < len(n):\n",
    "    if b < max(n):\n",
    "        n.pop()\n",
    "    if b > min(n):\n",
    "        n.pop(0)\n",
    "    i += 1\n",
    "for i in range(len(n)):\n",
    "    \n",
    "print(*n)"
   ]
  },
  {
   "cell_type": "code",
   "execution_count": 2,
   "metadata": {},
   "outputs": [
    {
     "name": "stdout",
     "output_type": "stream",
     "text": [
      "1\n",
      "4\n",
      "1\n",
      "4\n"
     ]
    }
   ],
   "source": [
    "k = int(input())\n",
    "n = list(map(int, input().split()))\n",
    "b = int(input())\n",
    "j = 0\n",
    "c = 2001\n",
    "if k == len(n):\n",
    "    for i in range(k):\n",
    "        if abs(n[i] - b) < c:\n",
    "            c = abs(n[i] - b)\n",
    "            j = n[i]\n",
    "print(j)"
   ]
  },
  {
   "cell_type": "code",
   "execution_count": 2,
   "metadata": {},
   "outputs": [
    {
     "name": "stdout",
     "output_type": "stream",
     "text": [
      "1 2 3 4 5\n",
      "2 1 4 3 5\n"
     ]
    }
   ],
   "source": [
    "n = list(map(int, input().split()))\n",
    "for i in range(len(n) // 2):\n",
    "    n[i * 2], n[i * 2 + 1] = n[i * 2 + 1], n[i * 2]\n",
    "print(*n)"
   ]
  },
  {
   "cell_type": "code",
   "execution_count": 1,
   "metadata": {},
   "outputs": [
    {
     "name": "stdout",
     "output_type": "stream",
     "text": [
      "1 2 3\n",
      "1 3\n",
      "3 2 1\n"
     ]
    }
   ],
   "source": [
    "n = list(map(int, input().split()))\n",
    "m1 = min(n)\n",
    "m2 = max(n)\n",
    "print(m1, m2)\n",
    "for i in range(len(n)):\n",
    "    if m1 == n[i]:\n",
    "        a = i\n",
    "    if m2 == n[i]:\n",
    "        b = i\n",
    "c = n[a]\n",
    "n[a] = n[b]\n",
    "n[b] = c\n",
    "print(*n)"
   ]
  },
  {
   "cell_type": "code",
   "execution_count": 2,
   "metadata": {},
   "outputs": [
    {
     "name": "stdout",
     "output_type": "stream",
     "text": [
      "165 163 160 160 157 157 155 154\n",
      "160\n",
      "5\n"
     ]
    }
   ],
   "source": [
    "n = list(map(int, input().split()))\n",
    "m = int(input())\n",
    "k = 0\n",
    "for i in range(len(n)):\n",
    "    if m <= n[i]:\n",
    "        k += 1\n",
    "print(k + 1)"
   ]
  },
  {
   "cell_type": "code",
   "execution_count": 4,
   "metadata": {},
   "outputs": [
    {
     "name": "stdout",
     "output_type": "stream",
     "text": [
      "1 1 2 2 3 3 3 3 3\n",
      "3\n"
     ]
    }
   ],
   "source": [
    "n = list(map(int, input().split()))\n",
    "k = 1\n",
    "for i in range(len(n) - 1):\n",
    "    if n[i] != n[i + 1]:\n",
    "        k += 1\n",
    "print(k)"
   ]
  },
  {
   "cell_type": "code",
   "execution_count": 12,
   "metadata": {},
   "outputs": [
    {
     "name": "stdout",
     "output_type": "stream",
     "text": [
      "1 2 3 4\n",
      "4 1 2 3\n"
     ]
    }
   ],
   "source": [
    "n = list(map(int, input().split()))\n",
    "a = n.copy()\n",
    "a[0] = n[-1]\n",
    "for i in range(len(n) - 1):\n",
    "    a[i + 1] = n[i]\n",
    "print(*a)"
   ]
  },
  {
   "cell_type": "code",
   "execution_count": 6,
   "metadata": {},
   "outputs": [
    {
     "name": "stdout",
     "output_type": "stream",
     "text": [
      "1 2 3 4 5 -5 -5\n",
      "-5 -5\n"
     ]
    }
   ],
   "source": [
    "n = list(map(int, input().split()))\n",
    "a = max(n)\n",
    "b = min(n)\n",
    "for i in range(len(n)):\n",
    "    if n[i] == a:\n",
    "        a0 = i\n",
    "    if n[i] == b:\n",
    "        b0 = i\n",
    "a1 = b\n",
    "b1 = a\n",
    "for i in range(len(n)):\n",
    "    if n[i] > a1 and n[i] <= n[a0] and i != a0:\n",
    "        a1 = n[i]\n",
    "        a2 = a1 * a\n",
    "        a3 = i\n",
    "    if n[i] >= n[b0] and n[i] < b1 and i != b0:\n",
    "        b1 = n[i]\n",
    "        b2 = b1 * b\n",
    "        b3 = i\n",
    "if a2 >= b2:\n",
    "    print(a1, a)\n",
    "else:\n",
    "    print(b, b1)"
   ]
  },
  {
   "cell_type": "code",
   "execution_count": 9,
   "metadata": {},
   "outputs": [
    {
     "name": "stdout",
     "output_type": "stream",
     "text": [
      "-5 -30000 -12\n",
      "-30000\n",
      "-12 -30000 -5\n"
     ]
    }
   ],
   "source": [
    "n = list(map(int, input().split()))\n",
    "a = max(n)\n",
    "b = min(n)\n",
    "for i in range(len(n)):\n",
    "    if n[i] == a:\n",
    "        a0 = i\n",
    "    if n[i] == b:\n",
    "        b0 = i\n",
    "for i in range(len(n)):\n",
    "    if n[i] > b and n[i] <= a and i != a0:\n",
    "        a4 = i\n",
    "    if n[i] >= b and n[i] < a and i != b0:\n",
    "        b4 = i\n",
    "a1 = min(n)\n",
    "b1 = max(n)\n",
    "for i in range(len(n)):\n",
    "    if n[i] > a1 and n[i] <= n[a0] and i != a0 and i != a4:\n",
    "        a1 = n[i]\n",
    "        a2 = a1 * a * n[a4]\n",
    "        a3 = i\n",
    "    if n[i] >= n[b0] and n[i] < b1 and i != b0 and i != b4:\n",
    "        b1 = n[i]\n",
    "        b2 = b1 * b * n[b4]\n",
    "        b3 = i\n",
    "if a2 >= b2:\n",
    "    print(n[a4], a1, a)\n",
    "else:\n",
    "    print(n[b4], b1, b)"
   ]
  },
  {
   "cell_type": "code",
   "execution_count": null,
   "metadata": {
    "collapsed": true
   },
   "outputs": [],
   "source": []
  },
  {
   "cell_type": "code",
   "execution_count": null,
   "metadata": {
    "collapsed": true
   },
   "outputs": [],
   "source": []
  }
 ],
 "metadata": {
  "kernelspec": {
   "display_name": "Python 3",
   "language": "python",
   "name": "python3"
  },
  "language_info": {
   "codemirror_mode": {
    "name": "ipython",
    "version": 3
   },
   "file_extension": ".py",
   "mimetype": "text/x-python",
   "name": "python",
   "nbconvert_exporter": "python",
   "pygments_lexer": "ipython3",
   "version": "3.6.1"
  }
 },
 "nbformat": 4,
 "nbformat_minor": 2
}
