{
 "cells": [
  {
   "cell_type": "code",
   "execution_count": 1,
   "metadata": {},
   "outputs": [
    {
     "name": "stdout",
     "output_type": "stream",
     "text": [
      "[1, 2, 3, (1, 'abc')]\n"
     ]
    }
   ],
   "source": [
    "a = [1, 2, 3, (1, 'abc')]\n",
    "b = a[:]\n",
    "a[0] = 4\n",
    "print(b)"
   ]
  },
  {
   "cell_type": "code",
   "execution_count": 11,
   "metadata": {},
   "outputs": [
    {
     "name": "stdout",
     "output_type": "stream",
     "text": [
      "None\n"
     ]
    }
   ],
   "source": [
    "def replace(n):\n",
    "    n[0] = 0\n",
    "n = [1, 2, 3]\n",
    "replace(n)\n",
    "print(n)"
   ]
  },
  {
   "cell_type": "code",
   "execution_count": 34,
   "metadata": {},
   "outputs": [
    {
     "name": "stdout",
     "output_type": "stream",
     "text": [
      "[1, 2, 3]\n"
     ]
    }
   ],
   "source": [
    "def reverse(n):#так нельзя делать\n",
    "    n == n[::-1]\n",
    "n = [1, 2, 3]\n",
    "reverse(n)\n",
    "print(n)"
   ]
  },
  {
   "cell_type": "code",
   "execution_count": 30,
   "metadata": {},
   "outputs": [
    {
     "name": "stdout",
     "output_type": "stream",
     "text": [
      "dbc\n"
     ]
    }
   ],
   "source": [
    "a = list('abc')\n",
    "a[0] = 'd'\n",
    "a = ''.join(a)\n",
    "print(a)"
   ]
  },
  {
   "cell_type": "code",
   "execution_count": 25,
   "metadata": {},
   "outputs": [
    {
     "name": "stdout",
     "output_type": "stream",
     "text": [
      "12345123213\n",
      "['12345123213']\n",
      "1234534532232\n",
      "['12', '45', '45', '22', '2']\n"
     ]
    }
   ],
   "source": [
    "l = input().split()\n",
    "print(l)\n",
    "s = input().split('3')\n",
    "print(s)"
   ]
  },
  {
   "cell_type": "code",
   "execution_count": 33,
   "metadata": {},
   "outputs": [
    {
     "name": "stdout",
     "output_type": "stream",
     "text": [
      "1 2 3\n",
      "[1, 2, 3]\n",
      "1 2 3\n",
      "1 2 3\n"
     ]
    }
   ],
   "source": [
    "i = list(map(int, input().split()))\n",
    "print(i)\n",
    "print(' '.join(map(str, (i))))\n",
    "print(*i)"
   ]
  },
  {
   "cell_type": "code",
   "execution_count": 40,
   "metadata": {},
   "outputs": [
    {
     "name": "stdout",
     "output_type": "stream",
     "text": [
      "4 5 3 4 2 3\n",
      "4 3 2 "
     ]
    }
   ],
   "source": [
    "n = list(map(int, input().split()))\n",
    "for i in range(len(n)):\n",
    "    if i == 0 or i % 2 == 0:\n",
    "        print(n[i], end=' ')"
   ]
  },
  {
   "cell_type": "code",
   "execution_count": 3,
   "metadata": {},
   "outputs": [
    {
     "name": "stdout",
     "output_type": "stream",
     "text": [
      "1 2 3 4 5 6 0\n",
      "2 4 6 0 "
     ]
    }
   ],
   "source": [
    "n = list(map(int, input().split()))\n",
    "for i in range(len(n)):\n",
    "    if n[i] % 2 == 0 :\n",
    "        print(n[i], end=' ')"
   ]
  },
  {
   "cell_type": "code",
   "execution_count": 1,
   "metadata": {},
   "outputs": [
    {
     "name": "stdout",
     "output_type": "stream",
     "text": [
      "1 -2 3 -1 -5 9\n",
      "3\n"
     ]
    }
   ],
   "source": [
    "n = list(map(int, input().split()))\n",
    "k = 0\n",
    "for i in range(len(n)):\n",
    "    if n[i] > 0:\n",
    "        k += 1\n",
    "print(k)"
   ]
  },
  {
   "cell_type": "code",
   "execution_count": 3,
   "metadata": {},
   "outputs": [
    {
     "name": "stdout",
     "output_type": "stream",
     "text": [
      "1 2 3 4 5\n",
      "5 4\n"
     ]
    }
   ],
   "source": [
    "n = list(map(int, input().split()))\n",
    "m = 0\n",
    "j = 0\n",
    "for i in range(len(n)):\n",
    "    if n[i] >= m:\n",
    "        m = n[i]\n",
    "        j = i\n",
    "print(m, j)"
   ]
  },
  {
   "cell_type": "code",
   "execution_count": 7,
   "metadata": {},
   "outputs": [
    {
     "name": "stdout",
     "output_type": "stream",
     "text": [
      "1 2 3 4 5\n",
      "2 3 4 5 "
     ]
    }
   ],
   "source": [
    "n = list(map(int, input().split()))\n",
    "for i in range(len(n) - 1):\n",
    "    if n[i] <= n[i + 1]:\n",
    "        print(n[i + 1], end=' ')"
   ]
  },
  {
   "cell_type": "code",
   "execution_count": 16,
   "metadata": {},
   "outputs": [
    {
     "name": "stdout",
     "output_type": "stream",
     "text": [
      "1 2 3 4\n",
      "YES\n"
     ]
    }
   ],
   "source": [
    "def IsAscending(A):\n",
    "    i = 0\n",
    "    while i + 1 < len(A) and A[i] < A[i + 1]:\n",
    "        i += 1\n",
    "    if (i + 1) == len(A):\n",
    "        return 'YES'\n",
    "    else:\n",
    "        return'NO'\n",
    "A = list(map(int, input().split()))\n",
    "print(IsAscending(A))"
   ]
  },
  {
   "cell_type": "code",
   "execution_count": 27,
   "metadata": {},
   "outputs": [
    {
     "name": "stdout",
     "output_type": "stream",
     "text": [
      "-1 1\n"
     ]
    }
   ],
   "source": [
    "n = list(map(int, input().split()))\n",
    "i = 0\n",
    "while i < len(n) - 1:\n",
    "    if (n[i + 1] > 0 and n[i] > 0) or (n[i + 1] < 0 and n[i] < 0):\n",
    "        print(n[i], n[i + 1])\n",
    "        break\n",
    "    if i < len(n):\n",
    "        i += 1"
   ]
  },
  {
   "cell_type": "code",
   "execution_count": 9,
   "metadata": {},
   "outputs": [
    {
     "name": "stdout",
     "output_type": "stream",
     "text": [
      "2 1 2 1 2\n",
      "1\n"
     ]
    }
   ],
   "source": [
    "a = list(map(int, input().split()))\n",
    "k = 0\n",
    "for i in range(len(a) - 1):\n",
    "    if a[i] > a[i + 1] and a[abs(i - 1)] < a[i] and i - 1 >= 0:\n",
    "        k += 1\n",
    "print(k)"
   ]
  },
  {
   "cell_type": "code",
   "execution_count": 4,
   "metadata": {},
   "outputs": [
    {
     "name": "stdout",
     "output_type": "stream",
     "text": [
      "5 -4 3 -2 1\n",
      "5\n",
      "1\n"
     ]
    }
   ],
   "source": [
    "n = list(map(int, input().split()))\n",
    "k = 0\n",
    "j = max(n)\n",
    "for i in range(len(n)):\n",
    "    if n[i] > 0 and n[i] <= j:\n",
    "        j = n[i]\n",
    "print(j)"
   ]
  },
  {
   "cell_type": "code",
   "execution_count": 2,
   "metadata": {},
   "outputs": [
    {
     "name": "stdout",
     "output_type": "stream",
     "text": [
      "1 3 2\n",
      "3 1\n"
     ]
    }
   ],
   "source": [
    "n = list(map(int, input().split()))\n",
    "k = 0\n",
    "m = min(n)\n",
    "for i in range(len(n)):\n",
    "    if n[i] > m:\n",
    "        k = i\n",
    "        m = n[i]\n",
    "print(m, k)"
   ]
  },
  {
   "cell_type": "code",
   "execution_count": 1,
   "metadata": {},
   "outputs": [
    {
     "name": "stdout",
     "output_type": "stream",
     "text": [
      "2 4 3 5 6 8 1\n",
      "1\n"
     ]
    }
   ],
   "source": [
    "n = list(map(int, input().split()))\n",
    "k = 0\n",
    "m = max(n)\n",
    "for i in range(len(n)):\n",
    "    if n[i] < m and n[i] % 2 == 1:\n",
    "        k = i\n",
    "        m = n[i]\n",
    "print(n[k])"
   ]
  },
  {
   "cell_type": "code",
   "execution_count": 36,
   "metadata": {},
   "outputs": [
    {
     "name": "stdout",
     "output_type": "stream",
     "text": [
      "1 2 3\n",
      "3 2 1 "
     ]
    }
   ],
   "source": [
    "n = list(map(int, input().split()))\n",
    "for i in range(len(n)):\n",
    "    print(n[-1 - i], end=' ')"
   ]
  },
  {
   "cell_type": "code",
   "execution_count": 13,
   "metadata": {},
   "outputs": [
    {
     "name": "stdout",
     "output_type": "stream",
     "text": [
      "1 2 3 4\n",
      "4 3 2 1\n"
     ]
    }
   ],
   "source": [
    "n = list(map(int, input().split()))\n",
    "a = n[:]\n",
    "for i in range(len(n)):\n",
    "    a[i] = n[-1 - i]\n",
    "n = a[:]\n",
    "print(*n)"
   ]
  },
  {
   "cell_type": "code",
   "execution_count": 12,
   "metadata": {},
   "outputs": [
    {
     "name": "stdout",
     "output_type": "stream",
     "text": [
      "2\n",
      "[1, 2, 3, 4, 2, 2, 3, 5]\n",
      "[1, 2, 3, 4, 2, 2, 3, 5, 4, 5]\n",
      "[1, 3, 4, 2, 2, 3, 5, 4, 5]\n",
      "[1, 3, 4, 2, 2, 3, 5, 4, 5]\n",
      "[1, 3, 4, 2, 2, 2, 3, 5, 4, 5]\n",
      "[1, 3, 2, 2, 2, 3, 5, 4, 5]\n"
     ]
    }
   ],
   "source": [
    "a = [1, 2, 3, 4, 2, 2, 3]\n",
    "b = [4, 5]\n",
    "print(a.count(3))#считает количество того, что указали в ()\n",
    "a.append(5)#добавляет указанный элемент в конец\n",
    "print(a)\n",
    "a.extend(b)#добавляет в конец указанный список\n",
    "print(a)\n",
    "a.remove(2)#удаляет указанный элемент при первом вхождении\n",
    "print(a)\n",
    "b = a.copy()\n",
    "print(b)\n",
    "a.insert(3, 2)#вставить второй параметр на место, указанное первым параметром, не удаляя элемент, а раздвигая список\n",
    "print(a)\n",
    "a.pop(2)#удалить элемент под указанным номером, () удаляет последний\n",
    "print(a)"
   ]
  },
  {
   "cell_type": "code",
   "execution_count": 15,
   "metadata": {},
   "outputs": [
    {
     "name": "stdout",
     "output_type": "stream",
     "text": [
      "7 6 5 4 3 2 1\n",
      "2\n",
      "7 6 4 3 2 1\n"
     ]
    }
   ],
   "source": [
    "n = list(map(int, input().split()))\n",
    "k = int(input())\n",
    "n.pop(k)\n",
    "print(*n)"
   ]
  },
  {
   "cell_type": "code",
   "execution_count": 2,
   "metadata": {},
   "outputs": [
    {
     "name": "stdout",
     "output_type": "stream",
     "text": [
      "7 6 5 4 3 2 1\n",
      "2 0\n",
      "[7, 6, 0, 5, 4, 3, 2, 1]\n"
     ]
    }
   ],
   "source": [
    "n = list(map(int, input().split()))\n",
    "k = list(map(int, input().split()))\n",
    "c = k[1]\n",
    "k = k[0]\n",
    "n.insert(k, c)\n",
    "print(*n)"
   ]
  },
  {
   "cell_type": "code",
   "execution_count": null,
   "metadata": {
    "collapsed": true
   },
   "outputs": [],
   "source": []
  }
 ],
 "metadata": {
  "kernelspec": {
   "display_name": "Python 3",
   "language": "python",
   "name": "python3"
  },
  "language_info": {
   "codemirror_mode": {
    "name": "ipython",
    "version": 3
   },
   "file_extension": ".py",
   "mimetype": "text/x-python",
   "name": "python",
   "nbconvert_exporter": "python",
   "pygments_lexer": "ipython3",
   "version": "3.6.1"
  }
 },
 "nbformat": 4,
 "nbformat_minor": 2
}
