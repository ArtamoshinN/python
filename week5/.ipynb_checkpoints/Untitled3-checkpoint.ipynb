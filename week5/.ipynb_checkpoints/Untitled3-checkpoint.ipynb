{
 "cells": [
  {
   "cell_type": "code",
   "execution_count": 6,
   "metadata": {},
   "outputs": [
    {
     "name": "stdout",
     "output_type": "stream",
     "text": [
      "5 30000 12\n",
      "30000\n",
      "30000 12 5\n"
     ]
    }
   ],
   "source": [
    "n = list(map(int, input().split()))\n",
    "a = max(n)\n",
    "b = min(n)\n",
    "a2 = min(n)\n",
    "b2 = max(n)\n",
    "for i in range(len(n)):\n",
    "    if n[i] == a:\n",
    "        a0 = i\n",
    "    if n[i] == b:\n",
    "        b0 = i\n",
    "for i in range(len(n)):\n",
    "    if n[i] > b and n[i] <= a and i != a0:\n",
    "        a4 = i\n",
    "    if n[i] >= b and n[i] < a and i != b0:\n",
    "        b4 = i\n",
    "a1 = min(n)\n",
    "b1 = max(n)\n",
    "for i in range(len(n)):\n",
    "    if n[i] > a1 and n[i] <= n[a0] and i != a0 and i != a4:\n",
    "        a1 = n[i]\n",
    "        a2 = a1 * a * n[a4]\n",
    "        a3 = i\n",
    "    if n[i] >= n[b0] and n[i] < b1 and i != b0 and i != b4:\n",
    "        b1 = n[i]\n",
    "        b2 = b1 * b * n[b4]\n",
    "        b3 = i\n",
    "print(b1)\n",
    "if a2 >= b2:\n",
    "    print(n[a4], a1, a)\n",
    "else:\n",
    "    print(b1, n[b4], b)"
   ]
  },
  {
   "cell_type": "code",
   "execution_count": null,
   "metadata": {
    "collapsed": true
   },
   "outputs": [],
   "source": []
  }
 ],
 "metadata": {
  "kernelspec": {
   "display_name": "Python 3",
   "language": "python",
   "name": "python3"
  },
  "language_info": {
   "codemirror_mode": {
    "name": "ipython",
    "version": 3
   },
   "file_extension": ".py",
   "mimetype": "text/x-python",
   "name": "python",
   "nbconvert_exporter": "python",
   "pygments_lexer": "ipython3",
   "version": "3.6.1"
  }
 },
 "nbformat": 4,
 "nbformat_minor": 2
}
