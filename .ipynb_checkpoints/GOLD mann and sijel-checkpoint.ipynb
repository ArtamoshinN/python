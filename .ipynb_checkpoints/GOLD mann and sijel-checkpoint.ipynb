{
 "cells": [
  {
   "cell_type": "code",
   "execution_count": 184,
   "metadata": {},
   "outputs": [],
   "source": [
    "with open('zoloto_2_goda-2.txt', 'r') as f:\n",
    "    data = f.readlines()\n",
    "gold = list(map(lambda x: float(\"\".join(x.rstrip('\\n').split(' ')).replace(',', '.')), data))"
   ]
  },
  {
   "cell_type": "code",
   "execution_count": 131,
   "metadata": {},
   "outputs": [],
   "source": [
    "import datetime\n",
    "import numpy as np\n",
    "import pandas as pd\n",
    "import matplotlib.pyplot as plt\n",
    "from matplotlib.finance import candlestick2_ohlc\n",
    "import scipy.stats as st\n",
    "def stat(x):\n",
    "    _x = x  # Для возможности предобработки данных (например, исключения нечисловых значений) \n",
    "    result = []\n",
    "    result.append(len(x))\n",
    "    result.append(np.mean(_x))\n",
    "    result.append((np.min(_x), np.max(_x)))\n",
    "    result.append(np.std(_x))\n",
    "    result.append(result[0]/result[-1])\n",
    "    result.append((np.percentile(_x, 25), np.percentile(_x, 50), np.percentile(_x, 75)))\n",
    "    result.append(st.mode(_x)) \n",
    "    result.append(st.skew(_x))  # асимметрия \n",
    "    result.append(st.kurtosis(_x))  # эксцесс\n",
    "    _range = np.linspace(0.9 * np.min(_x), 1.1 * np.max(_x), 100)\n",
    "    result.append(st.gaussian_kde(_x)(_range))  # оценка плотности распределения\n",
    "    print(tuple(result))"
   ]
  },
  {
   "cell_type": "code",
   "execution_count": 165,
   "metadata": {},
   "outputs": [
    {
     "name": "stdout",
     "output_type": "stream",
     "text": [
      "[2971.89, 3011.6, 3011.6, 2952.29, 2910.01, 2947.77, 2991.79, 2979.018, 2966.246, 2953.474, 2940.702, 2927.93, 2850.82, 2853.2, 2853.2, 2834.16, 2834.16, 2797.73, 2815.81, 2798.51, 2758.89, 2758.89, 2752.59]\n"
     ]
    }
   ],
   "source": [
    "def raznost(x):\n",
    "    "
   ]
  },
  {
   "cell_type": "code",
   "execution_count": 177,
   "metadata": {},
   "outputs": [
    {
     "name": "stdout",
     "output_type": "stream",
     "text": [
      "сумма рангов r1 = 174083\n",
      "сумма рангов r1 = 94195\n",
      "мат ожидание = 66978.0\n",
      "дисперсия = 8182479.0\n",
      "случайная величина z = 13.963801515496002\n"
     ]
    }
   ],
   "source": [
    "import copy\n",
    "from math import sqrt\n",
    "y = copy.deepcopy(gold)\n",
    "def mann(a):\n",
    "    x = copy.deepcopy(a)\n",
    "    s = [0] * len(x)\n",
    "    for i in range(len(x)):\n",
    "        s[i] = i + 1\n",
    "    k = 1\n",
    "    t1 = int(len(x) / 2)\n",
    "    t2 = len(x) - t1\n",
    "    for i in range(len(x)):\n",
    "        if k <= t1:\n",
    "            x[i] = [x[i], 1]\n",
    "        else:\n",
    "            x[i] = [x[i], 2]\n",
    "        k += 1\n",
    "    x.sort()\n",
    "    r1 = 0\n",
    "    r2 = 0\n",
    "    for i in range(len(x)):\n",
    "        if x[i][1] == 1:\n",
    "            r1 += s[i]\n",
    "        else:\n",
    "            r2 += s[i]\n",
    "    print('сумма рангов r1 =', r1)\n",
    "    print('сумма рангов r1 =', r2)\n",
    "    u1 = r1 - (t1 * (t1 + 1)) / 2\n",
    "    u2 = t1 * t2 - (t2 * ( t2 + 1)) / 2 - r2\n",
    "    mu = (t1 * t2) / 2\n",
    "    du = (t1 * t2 * (t1 + t2 + 1)) / 12\n",
    "    z = (u1 - (t1 * t2) / 2) / (sqrt(du))\n",
    "    if z > 0:\n",
    "        z = (u1 - (t1 * t2) / 2 - 1 / 2) / (sqrt(du))\n",
    "    else:\n",
    "        z = (u1 - (t1 * t2) / 2 + 1 / 2) / (sqrt(du))\n",
    "    print('мат ожидание =', mu)\n",
    "    print('дисперсия =', du)\n",
    "    print('случайная величина z =', z)\n",
    "\n",
    "\n",
    "def sijel(a):\n",
    "    x = copy.deepcopy(a)\n",
    "    sr = np.mean(x)\n",
    "    s = [0] * len(x)\n",
    "    for i in range(int(len(x) / 2)):\n",
    "        s[i] = 2 * i + 1\n",
    "        s[-i - 1] = 2 * i + 2\n",
    "    s[int(len(x) / 2)] = 2 * i + 3\n",
    "    k = 1\n",
    "    t1 = int(len(x) / 2) + 1\n",
    "    t2 = len(x) - t1\n",
    "    for i in range(len(x)):\n",
    "        if k <= t1:\n",
    "            x[i] = [x[i], 1]\n",
    "        else:\n",
    "            x[i] = [x[i], 2]\n",
    "        k += 1\n",
    "    x.sort()\n",
    "    r1 = 0\n",
    "    r2 = 0\n",
    "    for i in range(len(x)):\n",
    "        if x[i][1] == 1:\n",
    "            r1 += s[i]\n",
    "        else:\n",
    "            r2 += s[i]\n",
    "    print('сумма рангов r1 =', r1)\n",
    "    print('сумма рангов r1 =', r2)\n",
    "    mw = r1 - t1* (t1 + t2 + 1) / 2\n",
    "    dw = (t1 * t2 * (t1 + t2 + 1)) / 12\n",
    "    z = (r1 - (t1 * ( t1 + t2 + 1)) / 2) / (sqrt((t1 * t2 * (t1 + t2 + 1)) / 12))\n",
    "    if z > 0:\n",
    "        z = (r1 - (t1 * ( t1 + t2 + 1)) / 2 - 1 / 2) / (sqrt((t1 * t2 * (t1 + t2 + 1)) / 12))\n",
    "    else:\n",
    "        z = (r1 - (t1 * ( t1 + t2 + 1)) / 2 + 1 / 2) / (sqrt((t1 * t2 * (t1 + t2 + 1)) / 12))\n",
    "    print('мат ожидание =', mw)\n",
    "    print('дисперсия =', dw)\n",
    "    print('случайная величина z =', z)"
   ]
  },
  {
   "cell_type": "code",
   "execution_count": 183,
   "metadata": {},
   "outputs": [
    {
     "name": "stdout",
     "output_type": "stream",
     "text": [
      "сумма рангов r1 = 67161\n",
      "сумма рангов r1 = 201117\n",
      "мат ожидание = 66978.0\n",
      "дисперсия = 8182479.0\n",
      "случайная величина z = -23.414586002832337\n"
     ]
    }
   ],
   "source": [
    "mann(gold)"
   ]
  },
  {
   "cell_type": "code",
   "execution_count": null,
   "metadata": {
    "collapsed": true
   },
   "outputs": [],
   "source": []
  }
 ],
 "metadata": {
  "kernelspec": {
   "display_name": "Python 3",
   "language": "python",
   "name": "python3"
  },
  "language_info": {
   "codemirror_mode": {
    "name": "ipython",
    "version": 3
   },
   "file_extension": ".py",
   "mimetype": "text/x-python",
   "name": "python",
   "nbconvert_exporter": "python",
   "pygments_lexer": "ipython3",
   "version": "3.6.1"
  }
 },
 "nbformat": 4,
 "nbformat_minor": 2
}
