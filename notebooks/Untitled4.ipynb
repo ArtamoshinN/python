{
 "cells": [
  {
   "cell_type": "code",
   "execution_count": 8,
   "metadata": {},
   "outputs": [
    {
     "name": "stdout",
     "output_type": "stream",
     "text": [
      "nik\n",
      "Hello, nik\n",
      "2\n",
      "7\n",
      "27\n",
      "9\n",
      "100100100100100100100100130100\n"
     ]
    }
   ],
   "source": [
    "name = input()\n",
    "print('Hello,', name)\n",
    "a = input()\n",
    "b = input()\n",
    "print(a + b)\n",
    "print(int(a) + int(b))\n",
    "print(int('100' * 10) + 30000)"
   ]
  },
  {
   "cell_type": "code",
   "execution_count": null,
   "metadata": {
    "collapsed": true
   },
   "outputs": [],
   "source": []
  },
  {
   "cell_type": "code",
   "execution_count": null,
   "metadata": {
    "collapsed": true
   },
   "outputs": [],
   "source": []
  }
 ],
 "metadata": {
  "kernelspec": {
   "display_name": "Python 3",
   "language": "python",
   "name": "python3"
  },
  "language_info": {
   "codemirror_mode": {
    "name": "ipython",
    "version": 3
   },
   "file_extension": ".py",
   "mimetype": "text/x-python",
   "name": "python",
   "nbconvert_exporter": "python",
   "pygments_lexer": "ipython3",
   "version": "3.6.1"
  }
 },
 "nbformat": 4,
 "nbformat_minor": 2
}
