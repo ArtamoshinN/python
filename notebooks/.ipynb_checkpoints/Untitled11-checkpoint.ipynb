{
 "cells": [
  {
   "cell_type": "code",
   "execution_count": 1,
   "metadata": {},
   "outputs": [
    {
     "name": "stdout",
     "output_type": "stream",
     "text": [
      "1\n",
      "1\n",
      "1\n",
      "2\n",
      "2\n",
      "2\n",
      "3661\n"
     ]
    }
   ],
   "source": [
    "h1 = int(input())\n",
    "m1 = int(input())\n",
    "s1 = int(input())\n",
    "h2 = int(input())\n",
    "m2 = int(input())\n",
    "s2 = int(input())\n",
    "sec1 = h1 * 60 * 60 + m1 * 60 + s1\n",
    "sec2 = h2 * 60 * 60 + m2 * 60 + s2\n",
    "print(sec2 - sec1)"
   ]
  },
  {
   "cell_type": "code",
   "execution_count": 2,
   "metadata": {},
   "outputs": [
    {
     "name": "stdout",
     "output_type": "stream",
     "text": [
      "700\n",
      "750\n",
      "2\n"
     ]
    }
   ],
   "source": [
    "n = int(input())\n",
    "m = int(input())\n",
    "print((m - 1) // n + 1)"
   ]
  },
  {
   "cell_type": "code",
   "execution_count": 2,
   "metadata": {},
   "outputs": [
    {
     "name": "stdout",
     "output_type": "stream",
     "text": [
      "10\n",
      "3\n",
      "2\n",
      "8\n"
     ]
    }
   ],
   "source": [
    "h = int(input())\n",
    "a = int(input())\n",
    "b = int(input())\n",
    "print(h // (a - b) - b)"
   ]
  },
  {
   "cell_type": "code",
   "execution_count": 9,
   "metadata": {},
   "outputs": [
    {
     "name": "stdout",
     "output_type": "stream",
     "text": [
      "2322\n",
      "0\n"
     ]
    }
   ],
   "source": [
    "n = int(input())\n",
    "a = n // 1000 - n % 10\n",
    "b = n // 100 % 10 - n // 10 % 10\n",
    "print(0 ** (a + b))"
   ]
  },
  {
   "cell_type": "code",
   "execution_count": null,
   "metadata": {
    "collapsed": true
   },
   "outputs": [],
   "source": []
  },
  {
   "cell_type": "code",
   "execution_count": null,
   "metadata": {
    "collapsed": true
   },
   "outputs": [],
   "source": [
    "3453\n"
   ]
  }
 ],
 "metadata": {
  "kernelspec": {
   "display_name": "Python 3",
   "language": "python",
   "name": "python3"
  },
  "language_info": {
   "codemirror_mode": {
    "name": "ipython",
    "version": 3
   },
   "file_extension": ".py",
   "mimetype": "text/x-python",
   "name": "python",
   "nbconvert_exporter": "python",
   "pygments_lexer": "ipython3",
   "version": "3.6.1"
  }
 },
 "nbformat": 4,
 "nbformat_minor": 2
}
