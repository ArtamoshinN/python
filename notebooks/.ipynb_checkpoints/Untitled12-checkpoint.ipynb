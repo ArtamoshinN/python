{
 "cells": [
  {
   "cell_type": "code",
   "execution_count": 2,
   "metadata": {},
   "outputs": [
    {
     "name": "stdout",
     "output_type": "stream",
     "text": [
      "9\n",
      "False\n"
     ]
    }
   ],
   "source": [
    "n = int(input())\n",
    "isEven = n % 2 == 0\n",
    "print(isEven)"
   ]
  },
  {
   "cell_type": "code",
   "execution_count": 8,
   "metadata": {},
   "outputs": [
    {
     "name": "stdout",
     "output_type": "stream",
     "text": [
      "1\n",
      "10\n",
      "2\n",
      "9\n",
      "True\n",
      "True\n"
     ]
    }
   ],
   "source": [
    "start1 = int(input())\n",
    "finish1 = int(input())\n",
    "start2 = int(input())\n",
    "finish2 = int(input())\n",
    "isS1in2 = start2 <= start1 <= finish2\n",
    "isF1in2 = start2 <= finish1 <= finish2\n",
    "isS2in1 = start1 <= start2 <= finish1\n",
    "isF2in1 = start1 <= finish2 <= finish1\n",
    "answer = isS1in2 or isF1in2 or isS2in1 or isF2in1\n",
    "print(answer)\n",
    "#или можно сделать короче\n",
    "answer = start1 <= finish2 and start2 <= finish1\n",
    "print(answer)"
   ]
  },
  {
   "cell_type": "code",
   "execution_count": 16,
   "metadata": {},
   "outputs": [
    {
     "name": "stdout",
     "output_type": "stream",
     "text": [
      "0\n",
      "0\n",
      "0\n"
     ]
    }
   ],
   "source": [
    "x = int(input())\n",
    "if x < 0:\n",
    "    x = -x\n",
    "print(x)\n",
    "#или другой вариант чтобы не портить x\n",
    "if x >= 0:\n",
    "    print(x)\n",
    "else:\n",
    "    print(-x)"
   ]
  },
  {
   "cell_type": "code",
   "execution_count": null,
   "metadata": {
    "collapsed": true
   },
   "outputs": [],
   "source": [
    "a = int(input())\n",
    "b = int(input())\n",
    "if a >= b:\n",
    "    print(a)\n",
    "else:\n",
    "    print(b)"
   ]
  }
 ],
 "metadata": {
  "kernelspec": {
   "display_name": "Python 3",
   "language": "python",
   "name": "python3"
  },
  "language_info": {
   "codemirror_mode": {
    "name": "ipython",
    "version": 3
   },
   "file_extension": ".py",
   "mimetype": "text/x-python",
   "name": "python",
   "nbconvert_exporter": "python",
   "pygments_lexer": "ipython3",
   "version": "3.6.1"
  }
 },
 "nbformat": 4,
 "nbformat_minor": 2
}
