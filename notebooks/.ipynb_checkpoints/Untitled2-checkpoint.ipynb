{
 "cells": [
  {
   "cell_type": "code",
   "execution_count": 9,
   "metadata": {},
   "outputs": [
    {
     "name": "stdout",
     "output_type": "stream",
     "text": [
      "17\n",
      "5\n",
      "66\n",
      "1771561\n",
      "1\n",
      "5\n",
      "7\n",
      "23\n",
      "1236\n"
     ]
    }
   ],
   "source": [
    "print(11 + 6)\n",
    "print(11 - 6)\n",
    "print(11 * 6)\n",
    "print(11 ** 6)\n",
    "print(11 // 6)\n",
    "print(11 % 6)\n",
    "print((23 + 8) % 24)\n",
    "print((7 - 8) % 24)\n",
    "speed1 = 108\n",
    "speed2 = -5\n",
    "time = 12\n",
    "dist = time * (speed1 + speed2)\n",
    "print(dist)\n"
   ]
  },
  {
   "cell_type": "code",
   "execution_count": null,
   "metadata": {
    "collapsed": true
   },
   "outputs": [],
   "source": []
  }
 ],
 "metadata": {
  "kernelspec": {
   "display_name": "Python 3",
   "language": "python",
   "name": "python3"
  },
  "language_info": {
   "codemirror_mode": {
    "name": "ipython",
    "version": 3
   },
   "file_extension": ".py",
   "mimetype": "text/x-python",
   "name": "python",
   "nbconvert_exporter": "python",
   "pygments_lexer": "ipython3",
   "version": "3.6.1"
  }
 },
 "nbformat": 4,
 "nbformat_minor": 2
}
