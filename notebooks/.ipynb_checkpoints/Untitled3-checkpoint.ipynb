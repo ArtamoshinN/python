{
 "cells": [
  {
   "cell_type": "code",
   "execution_count": 7,
   "metadata": {},
   "outputs": [
    {
     "name": "stdout",
     "output_type": "stream",
     "text": [
      "Hasta la vista,\"baby\"\n",
      "2 + 3 = 5\n",
      "6\n",
      "abcabcabc\n"
     ]
    }
   ],
   "source": [
    "phrase = 'Hasta la vista'\n",
    "who = '\"baby\"'\n",
    "print(phrase, who, sep = ',')\n",
    "ans = 2 + 3\n",
    "expr = '2 + 3 = '\n",
    "print(expr + str(ans))\n",
    "print(ans + 1)\n",
    "print('abc' * 3)\n"
   ]
  },
  {
   "cell_type": "code",
   "execution_count": null,
   "metadata": {
    "collapsed": true
   },
   "outputs": [],
   "source": []
  }
 ],
 "metadata": {
  "kernelspec": {
   "display_name": "Python 3",
   "language": "python",
   "name": "python3"
  },
  "language_info": {
   "codemirror_mode": {
    "name": "ipython",
    "version": 3
   },
   "file_extension": ".py",
   "mimetype": "text/x-python",
   "name": "python",
   "nbconvert_exporter": "python",
   "pygments_lexer": "ipython3",
   "version": "3.6.1"
  }
 },
 "nbformat": 4,
 "nbformat_minor": 2
}
