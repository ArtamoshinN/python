{
 "cells": [
  {
   "cell_type": "code",
   "execution_count": 3,
   "metadata": {},
   "outputs": [
    {
     "name": "stdout",
     "output_type": "stream",
     "text": [
      "True\n"
     ]
    }
   ],
   "source": [
    "a = input().split()\n",
    "k = {}\n",
    "q = 0\n",
    "j = []\n",
    "for elem in a:\n",
    "    k[elem] = a.count(elem)\n",
    "for elem in k:\n",
    "    if k[elem] > q:\n",
    "        q = k[elem]\n",
    "for elem in k:\n",
    "    if k[elem] == q:\n",
    "        j.append(elem)\n",
    "j.sort()\n",
    "print(j[0])\n",
    "\n",
    "fSet = {1, 2, 3}\n",
    "sSet = {3, 1, 2}\n",
    "print(fSet == sSet)"
   ]
  },
  {
   "cell_type": "code",
   "execution_count": 5,
   "metadata": {},
   "outputs": [
    {
     "name": "stdout",
     "output_type": "stream",
     "text": [
      "1 2 3 4 1\n",
      "{1, 2, 3, 4}\n"
     ]
    }
   ],
   "source": [
    "myList = list(map(int, input().split()))\n",
    "mySet = set(myList)#set можно применять к любым интерируемым объектам, не обязательно к list\n",
    "print(mySet)"
   ]
  },
  {
   "cell_type": "code",
   "execution_count": 8,
   "metadata": {},
   "outputs": [
    {
     "name": "stdout",
     "output_type": "stream",
     "text": [
      "{'abc', 1, 3.14, (1, 2)}\n"
     ]
    }
   ],
   "source": [
    "mySet = {1, 3.14, 'abc', (1, 2)}#нельзя написать [1, 2] или {1, 2}, множ не может быть в множ, а \n",
    "print(mySet)"
   ]
  },
  {
   "cell_type": "code",
   "execution_count": 10,
   "metadata": {},
   "outputs": [
    {
     "name": "stdout",
     "output_type": "stream",
     "text": [
      "{'abc', 1, frozenset({1, 2}), 3.14}\n"
     ]
    }
   ],
   "source": [
    "mySet = {1, 3.14, 'abc', frozenset({1, 2})}#но можно сделать через frozenset\n",
    "print(mySet)"
   ]
  },
  {
   "cell_type": "code",
   "execution_count": 16,
   "metadata": {},
   "outputs": [
    {
     "name": "stdout",
     "output_type": "stream",
     "text": [
      "400000000 1 2 3\n",
      "1 2 3 400000000\n"
     ]
    }
   ],
   "source": [
    "mySet = {1, 2, 3, 1, 400000000}\n",
    "print(*mySet)\n",
    "print(*sorted(list(mySet)))"
   ]
  },
  {
   "cell_type": "code",
   "execution_count": 19,
   "metadata": {},
   "outputs": [
    {
     "name": "stdout",
     "output_type": "stream",
     "text": [
      "4\n"
     ]
    }
   ],
   "source": [
    "mySet = set('abcdabc')\n",
    "print(len(mySet))"
   ]
  },
  {
   "cell_type": "code",
   "execution_count": 5,
   "metadata": {},
   "outputs": [
    {
     "name": "stdout",
     "output_type": "stream",
     "text": [
      "{1, 2, 3, 'abs'}\n",
      "{4, 5, 6}\n",
      "{'o', 'l'}\n",
      "{2, 5, 8, 11, 14, 17, 20}\n",
      "{1, 2, 3, 4}\n",
      "{1, 2, 3}\n"
     ]
    }
   ],
   "source": [
    "setFromList = set([1, 2, 3, 'abs'])\n",
    "print(setFromList)\n",
    "setFromTuple = set((4, 5, 6))\n",
    "print(setFromTuple)\n",
    "setFromStr = set(\"lol\")\n",
    "print(setFromStr)\n",
    "setFromRange = set(range(2, 22, 3))\n",
    "print(setFromRange)\n",
    "setFromMap = set(map(abs, (1, 2, 3, -2, -4)))\n",
    "print(setFromMap)\n",
    "setFromSet = set({1, 2, 3})\n",
    "print(setFromSet)"
   ]
  },
  {
   "cell_type": "code",
   "execution_count": 21,
   "metadata": {},
   "outputs": [
    {
     "name": "stdout",
     "output_type": "stream",
     "text": [
      "4000000\n",
      "1\n",
      "2\n",
      "3\n"
     ]
    }
   ],
   "source": [
    "mySet = {1, 2, 3, 4000000}\n",
    "for elem in mySet:\n",
    "    print(elem)"
   ]
  },
  {
   "cell_type": "code",
   "execution_count": 23,
   "metadata": {},
   "outputs": [
    {
     "name": "stdout",
     "output_type": "stream",
     "text": [
      "10\n",
      "not in set\n"
     ]
    }
   ],
   "source": [
    "primes = {2, 3, 5, 7, 11, 13}\n",
    "n = int(input())\n",
    "if n in primes:\n",
    "    print('in set')\n",
    "else:\n",
    "    print('not in set')"
   ]
  },
  {
   "cell_type": "code",
   "execution_count": 27,
   "metadata": {},
   "outputs": [
    {
     "name": "stdout",
     "output_type": "stream",
     "text": [
      "11\n",
      "in set\n"
     ]
    }
   ],
   "source": [
    "primes = {2, 3, 5, 7, 11, 13}\n",
    "n = int(input())\n",
    "if n not in primes:\n",
    "    print('not in set')\n",
    "else:\n",
    "    print('in set')"
   ]
  },
  {
   "cell_type": "code",
   "execution_count": 9,
   "metadata": {},
   "outputs": [
    {
     "ename": "KeyError",
     "evalue": "99",
     "output_type": "error",
     "traceback": [
      "\u001b[0;31m---------------------------------------------------------------------------\u001b[0m",
      "\u001b[0;31mKeyError\u001b[0m                                  Traceback (most recent call last)",
      "\u001b[0;32m<ipython-input-9-f4b4a344664a>\u001b[0m in \u001b[0;36m<module>\u001b[0;34m()\u001b[0m\n\u001b[1;32m      2\u001b[0m \u001b[0mprimes\u001b[0m\u001b[0;34m.\u001b[0m\u001b[0madd\u001b[0m\u001b[0;34m(\u001b[0m\u001b[0;36m17\u001b[0m\u001b[0;34m)\u001b[0m\u001b[0;34m\u001b[0m\u001b[0m\n\u001b[1;32m      3\u001b[0m \u001b[0mprimes\u001b[0m\u001b[0;34m.\u001b[0m\u001b[0mremove\u001b[0m\u001b[0;34m(\u001b[0m\u001b[0;36m13\u001b[0m\u001b[0;34m)\u001b[0m\u001b[0;34m\u001b[0m\u001b[0m\n\u001b[0;32m----> 4\u001b[0;31m \u001b[0mprimes\u001b[0m\u001b[0;34m.\u001b[0m\u001b[0mremove\u001b[0m\u001b[0;34m(\u001b[0m\u001b[0;36m99\u001b[0m\u001b[0;34m)\u001b[0m\u001b[0;31m#если элемента нет в множ, то он не может найти элемент чтобы удалить его\u001b[0m\u001b[0;34m\u001b[0m\u001b[0m\n\u001b[0m\u001b[1;32m      5\u001b[0m \u001b[0mprimes\u001b[0m\u001b[0;34m.\u001b[0m\u001b[0mdiscard\u001b[0m\u001b[0;34m(\u001b[0m\u001b[0;36m2\u001b[0m\u001b[0;34m)\u001b[0m\u001b[0;34m\u001b[0m\u001b[0m\n\u001b[1;32m      6\u001b[0m \u001b[0mprimes\u001b[0m\u001b[0;34m.\u001b[0m\u001b[0mdiscard\u001b[0m\u001b[0;34m(\u001b[0m\u001b[0;36m99\u001b[0m\u001b[0;34m)\u001b[0m\u001b[0;31m#если элемента нет в множ, то и удалять нечего, и ничего не делается\u001b[0m\u001b[0;34m\u001b[0m\u001b[0m\n",
      "\u001b[0;31mKeyError\u001b[0m: 99"
     ]
    }
   ],
   "source": [
    "primes = {2, 3, 5, 7, 11, 13}\n",
    "primes.add(17)\n",
    "primes.remove(13)\n",
    "primes.remove(99)#если элемента нет в множ, то он не может найти элемент чтобы удалить его\n",
    "primes.discard(2)\n",
    "primes.discard(99)#если элемента нет в множ, то и удалять нечего, и ничего не делается\n",
    "print(*primes)"
   ]
  },
  {
   "cell_type": "code",
   "execution_count": 8,
   "metadata": {},
   "outputs": [
    {
     "name": "stdout",
     "output_type": "stream",
     "text": [
      "False\n",
      "True\n",
      "False\n",
      "False\n",
      "False\n",
      "False\n"
     ]
    }
   ],
   "source": [
    "a = {1, 2, 3, 4}\n",
    "b = {1, 3}\n",
    "print(a == b)\n",
    "print(a != b)\n",
    "print(a < b)\n",
    "print(a > b)\n",
    "print(a <= b)\n",
    "print(a >= b)"
   ]
  },
  {
   "cell_type": "code",
   "execution_count": 42,
   "metadata": {},
   "outputs": [
    {
     "name": "stdout",
     "output_type": "stream",
     "text": [
      "{1, 2, 3, 4, 5}\n",
      "{1, 3}\n",
      "{2, 4}\n",
      "{2, 4, 5}\n"
     ]
    }
   ],
   "source": [
    "a = {1, 2, 3, 4}\n",
    "b = {1, 3, 5}\n",
    "print(a | b)#обьединение двух множеств\n",
    "print(a & b)#пересечение двух множеств\n",
    "print(a - b)#все элементы из a, которые не содержатся b\n",
    "print(a ^ b)#симметрическая разность, все элем входящие в обьединение, но не входящие в пересечение"
   ]
  },
  {
   "cell_type": "code",
   "execution_count": 44,
   "metadata": {},
   "outputs": [
    {
     "name": "stdout",
     "output_type": "stream",
     "text": [
      "1 2 3 2 1\n",
      "3\n"
     ]
    }
   ],
   "source": [
    "a = set(list(map(int, input().split())))\n",
    "print(len(a))"
   ]
  },
  {
   "cell_type": "code",
   "execution_count": 8,
   "metadata": {},
   "outputs": [
    {
     "name": "stdout",
     "output_type": "stream",
     "text": [
      "1 2 3\n",
      "2 3 4\n",
      "2 3\n"
     ]
    }
   ],
   "source": [
    "a = set(list(map(int, input().split())))\n",
    "b = set(list(map(int, input().split())))\n",
    "print(*sorted(list(a & b)))"
   ]
  },
  {
   "cell_type": "code",
   "execution_count": 1,
   "metadata": {},
   "outputs": [
    {
     "name": "stdout",
     "output_type": "stream",
     "text": [
      "1 2 3\n",
      "3 2 4\n",
      "2\n"
     ]
    }
   ],
   "source": [
    "a = set(list(map(int, input().split())))\n",
    "b = set(list(map(int, input().split())))\n",
    "print(len(a & b))"
   ]
  },
  {
   "cell_type": "code",
   "execution_count": 9,
   "metadata": {},
   "outputs": [
    {
     "name": "stdout",
     "output_type": "stream",
     "text": [
      "1 2 3 1\n",
      "NO\n",
      "NO\n",
      "NO\n",
      "YES\n"
     ]
    }
   ],
   "source": [
    "a = map(int, input().split())\n",
    "s = set()\n",
    "for elem in a:\n",
    "    if elem in s:\n",
    "        print('YES')\n",
    "    else:\n",
    "        print('NO')\n",
    "        s.add(elem)"
   ]
  },
  {
   "cell_type": "code",
   "execution_count": 3,
   "metadata": {},
   "outputs": [
    {
     "name": "stdout",
     "output_type": "stream",
     "text": [
      "19\n"
     ]
    }
   ],
   "source": [
    "n = open('input.txt', 'r', encoding='utf8')\n",
    "p = set()\n",
    "for i in n:\n",
    "    i = i.split()\n",
    "    i = set(i)\n",
    "    p = p | i\n",
    "print(len(p))"
   ]
  },
  {
   "cell_type": "code",
   "execution_count": null,
   "metadata": {
    "collapsed": true
   },
   "outputs": [],
   "source": []
  },
  {
   "cell_type": "code",
   "execution_count": 4,
   "metadata": {},
   "outputs": [
    {
     "name": "stdout",
     "output_type": "stream",
     "text": [
      "5\n",
      "2 3\n",
      "YES\n",
      "3 4\n",
      "YES\n",
      "HELP\n",
      "3\n"
     ]
    }
   ],
   "source": [
    "m = int(input())\n",
    "s = set(range(1, m + 1))\n",
    "a = 0\n",
    "y = 'YES'\n",
    "n = 'NO'\n",
    "while a != ['HELP']:\n",
    "    a = input().split()\n",
    "    if a == ['HELP']:\n",
    "        continue\n",
    "    else:\n",
    "        b = str(input())\n",
    "        a = list(map(int, a))\n",
    "        a = set(a)\n",
    "        if b == str(y):\n",
    "            s &= a\n",
    "        elif b == n:\n",
    "            s -= a\n",
    "print(*sorted(list(s)))"
   ]
  },
  {
   "cell_type": "code",
   "execution_count": 15,
   "metadata": {},
   "outputs": [
    {
     "name": "stdout",
     "output_type": "stream",
     "text": [
      "0\n",
      "0\n",
      "\n",
      "0\n"
     ]
    }
   ],
   "source": [
    "n = int(input())\n",
    "f = set()\n",
    "s = set()\n",
    "for i in range(n):\n",
    "    m = int(input())\n",
    "    k = set()\n",
    "    for j in range(m):\n",
    "        a = input()\n",
    "        a = set([a])\n",
    "        k = k | a\n",
    "        if i == 0:\n",
    "            f = f | a\n",
    "            s = s | a\n",
    "    if f & k == f:\n",
    "        f = f | k\n",
    "    s = s & k\n",
    "print(len(s))\n",
    "print(*s)\n",
    "print(len(f))\n",
    "for i in f:\n",
    "    print(i)"
   ]
  },
  {
   "cell_type": "code",
   "execution_count": 14,
   "metadata": {},
   "outputs": [
    {
     "name": "stdout",
     "output_type": "stream",
     "text": [
      "2\n",
      "1\n",
      "rus\n",
      "2\n",
      "rus\n",
      "eng\n",
      "['rus', 'rus', 'eng']\n",
      "{'eng', 'rus'}\n"
     ]
    }
   ],
   "source": [
    "n = int(input())\n",
    "b = []\n",
    "f = set()\n",
    "s = set()\n",
    "for i in range(n):\n",
    "    m = int(input())\n",
    "    for j in range(m):\n",
    "        a = input()\n",
    "        b.append(a)\n",
    "print(b)\n",
    "k = set(b)\n",
    "print(k)\n"
   ]
  },
  {
   "cell_type": "code",
   "execution_count": 16,
   "metadata": {},
   "outputs": [
    {
     "name": "stdout",
     "output_type": "stream",
     "text": [
      "0\n",
      "0\n",
      "0\n"
     ]
    }
   ],
   "source": [
    "n = int(input())\n",
    "s1 = set()\n",
    "s2 = set()\n",
    "s3 = set()\n",
    "if n != 0:\n",
    "    k = int(input())\n",
    "    if k != 0:\n",
    "        for i in range(k):\n",
    "            lan = input()\n",
    "            s1.add(lan)\n",
    "            s2.add(lan)\n",
    "    if n - 1 != 0:\n",
    "        for i in range(n - 1):\n",
    "            k = int(input())\n",
    "            if k != 0:\n",
    "                for j in range(k):\n",
    "                    lan = input()\n",
    "                    s1.add(lan)\n",
    "                    s3.add(lan)\n",
    "            else:\n",
    "                continue\n",
    "            s2 &= s3\n",
    "            s3.clear()\n",
    "print(len(s2))\n",
    "for lan in sorted(s2):\n",
    "    print(lan)\n",
    "print(len(s1))\n",
    "for lan in sorted(s1):\n",
    "    print(lan)"
   ]
  },
  {
   "cell_type": "code",
   "execution_count": 6,
   "metadata": {},
   "outputs": [
    {
     "name": "stdout",
     "output_type": "stream",
     "text": [
      "Moscow\n",
      "Washington\n",
      "{'Russia': 'Moscow', 'France': 'Paris', 'USA': 'Washington'}\n",
      "Russia France USA\n",
      "Russia USA\n",
      "True\n"
     ]
    }
   ],
   "source": [
    "capitals = {'Russia': 'Moscow', 'France': 'Paris'}\n",
    "capitals['USA'] = 'Washington'\n",
    "print(capitals['Russia'])\n",
    "print(capitals['USA'])\n",
    "print(capitals)\n",
    "print(*capitals)\n",
    "del capitals['France']\n",
    "print(*capitals)\n",
    "print('Russia' in capitals)"
   ]
  },
  {
   "cell_type": "code",
   "execution_count": 16,
   "metadata": {},
   "outputs": [
    {
     "name": "stdout",
     "output_type": "stream",
     "text": [
      "{'x': 5, 'y': 3}\n",
      "x 5\n",
      "y 3\n"
     ]
    }
   ],
   "source": [
    "myDict = dict([('x', 5), ('y', 3)])\n",
    "print(myDict)\n",
    "for i in myDict:\n",
    "    print(i, myDict[i])"
   ]
  },
  {
   "cell_type": "code",
   "execution_count": 26,
   "metadata": {},
   "outputs": [
    {
     "name": "stdout",
     "output_type": "stream",
     "text": [
      "police 102\n",
      "ambulance 103\n",
      "firefighters 101\n"
     ]
    }
   ],
   "source": [
    "phones = {'police' : 102, 'ambulance' : 103, 'firefighters' : 101}\n",
    "for service, phone in phones.items():# .items() возвращает обьект, содержащий ключ-значение\n",
    "    print(service, phone)"
   ]
  },
  {
   "cell_type": "code",
   "execution_count": 24,
   "metadata": {},
   "outputs": [
    {
     "name": "stdout",
     "output_type": "stream",
     "text": [
      "hello\n",
      "e 1\n",
      "h 1\n",
      "l 2\n",
      "o 1\n"
     ]
    }
   ],
   "source": [
    "s = input()\n",
    "letters = dict()\n",
    "for c in s:\n",
    "    if c not in letters:\n",
    "        letters[c] = 0\n",
    "    letters[c] += 1\n",
    "for c in sorted(letters):\n",
    "    print(c, letters[c])"
   ]
  },
  {
   "cell_type": "code",
   "execution_count": 25,
   "metadata": {},
   "outputs": [
    {
     "name": "stdout",
     "output_type": "stream",
     "text": [
      "hello\n",
      "e 1\n",
      "h 1\n",
      "l 2\n",
      "o 1\n"
     ]
    }
   ],
   "source": [
    "s = input()\n",
    "letters = dict()\n",
    "for c in s:\n",
    "    letters[c] = letters.get(c, 0) + 1#get(возвр знач, если указанный ключ есть, и возвращает второе знач, если нет)\n",
    "\n",
    "for c in sorted(letters):\n",
    "    print(c, letters[c])"
   ]
  },
  {
   "cell_type": "code",
   "execution_count": 1,
   "metadata": {},
   "outputs": [
    {
     "name": "stdout",
     "output_type": "stream",
     "text": [
      "2\n",
      "2 3 4\n",
      "3 2 3\n",
      "2 2 3\n"
     ]
    }
   ],
   "source": [
    "gas = {}\n",
    "n = int(input())\n",
    "cost = list(map(int, input().split()))\n",
    "b = (92, 95 ,98)\n",
    "for now in range(len(b)):\n",
    "    gas[b[now]] = cost[now]\n",
    "for i in range(n - 1):\n",
    "    cost = list(map(int, input().split()))\n",
    "    for now in range(len(b)):\n",
    "        gas[b[now]] = min(cost[now], gas[b[now]])\n",
    "print(gas[92], gas[95], gas[98])"
   ]
  },
  {
   "cell_type": "code",
   "execution_count": 16,
   "metadata": {},
   "outputs": [
    {
     "name": "stdout",
     "output_type": "stream",
     "text": [
      "qwer1\n",
      "False\n",
      "True\n",
      "False\n",
      "True\n",
      "False\n",
      "qwer1\n",
      "qwer1\n",
      "qwer1\n"
     ]
    }
   ],
   "source": [
    "s = input()\n",
    "print(s.isalpha())#только латинские буквы без пробелов и др\n",
    "print(s.isalnum())#латинские и цифры без пробелов\n",
    "print(s.isdigit())#только цифры\n",
    "print(s.islower())#только маленькие буквы\n",
    "print(s.isupper())#только большие буквы\n",
    "print(s.strip())#обрезать все пробельные символы по краям\n",
    "print(s.lstrip())#обрезать слева\n",
    "print(s.rstrip())#обрезать справа"
   ]
  },
  {
   "cell_type": "code",
   "execution_count": 5,
   "metadata": {},
   "outputs": [
    {
     "name": "stdout",
     "output_type": "stream",
     "text": [
      "{'malum': ['apple', 'punishment'], 'pomum': ['apple'], 'popula': ['apple'], 'baca': ['fruit'], 'bacca': ['fruit'], 'popum': ['fruit'], 'multa': ['punishment']}\n"
     ]
    }
   ],
   "source": [
    "fin = open('input.txt')\n",
    "myDict = {}\n",
    "for line in fin:\n",
    "    eng, latins = line.split('-')\n",
    "    latinsList = latins.split(',')\n",
    "    eng = eng.strip()\n",
    "    for lat in latinsList:\n",
    "        if lat.strip() not in myDict:\n",
    "            myDict[lat.strip()] = []\n",
    "        myDict[lat.strip()].append(eng)\n",
    "print(myDict)"
   ]
  },
  {
   "cell_type": "code",
   "execution_count": 3,
   "metadata": {},
   "outputs": [
    {
     "name": "stdout",
     "output_type": "stream",
     "text": [
      "8(495)430-23-97\n",
      "8(495)430-23-97\n",
      "YES\n",
      "+7-4-9-5-43-023-97\n",
      "YES\n",
      "4-3-0-2-3-9-7\n",
      "YES\n"
     ]
    }
   ],
   "source": [
    "a = list(input())\n",
    "\n",
    "\n",
    "def num(a):\n",
    "    b = ['8', '4', '9', '5']\n",
    "    if a.count('(') != 0:\n",
    "        a.remove('(')\n",
    "        a.remove(')')\n",
    "    for i in range(a.count('-')):\n",
    "        a.remove('-')\n",
    "    if a[0] == '+':\n",
    "        a.remove(a[1])\n",
    "        a[0] = '8'\n",
    "    if len(a) == 7:\n",
    "        for i in range(len(a)):\n",
    "            b.append(a[i])\n",
    "        a = b\n",
    "    return a\n",
    "for i in range(3):\n",
    "    b = list(input())\n",
    "    if num(a) == num(b):\n",
    "        print('YES')\n",
    "    else:\n",
    "        print('NO')"
   ]
  },
  {
   "cell_type": "code",
   "execution_count": 15,
   "metadata": {},
   "outputs": [
    {
     "name": "stdout",
     "output_type": "stream",
     "text": [
      "baca - fruit\n",
      "bacca - fruit\n",
      "malum - apple, punishment\n",
      "multa - punishment\n",
      "pomum - apple\n",
      "popula - apple\n",
      "popum - fruit\n"
     ]
    }
   ],
   "source": [
    "fin = open('input.txt')\n",
    "myDict = {}\n",
    "for line in fin:\n",
    "    eng, latins = line.split('-')\n",
    "    latinsList = latins.split(',')\n",
    "    eng = eng.strip()\n",
    "    for lat in latinsList:\n",
    "        if lat.strip() not in myDict:\n",
    "            myDict[lat.strip()] = []\n",
    "        myDict[lat.strip()].append(eng)\n",
    "for lat in sorted(myDict):\n",
    "    print(lat, '-', ', '.join(sorted(myDict[lat])))"
   ]
  },
  {
   "cell_type": "code",
   "execution_count": null,
   "metadata": {
    "collapsed": true
   },
   "outputs": [],
   "source": [
    "tree = {'a': {\n",
    "            'b': dict(), \n",
    "            'c': {\n",
    "                 'd': dict(), \n",
    "                 'e': dict()\n",
    "                 }\n",
    "            }\n",
    "       }"
   ]
  },
  {
   "cell_type": "code",
   "execution_count": 37,
   "metadata": {},
   "outputs": [
    {
     "name": "stdout",
     "output_type": "stream",
     "text": [
      "0 aba\n",
      "0 aba;\n",
      "1 aba\n",
      "0 @?\"\n"
     ]
    }
   ],
   "source": [
    "a = open('input.txt')\n",
    "myDict = dict()\n",
    "for line in a:\n",
    "    newLine = line.split()\n",
    "    for word in newLine:\n",
    "        if word not in myDict:\n",
    "            myDict[word] = 0\n",
    "        else:\n",
    "            myDict[word] += 1\n",
    "        print(myDict[word], end=' ')\n",
    "        print(word)"
   ]
  },
  {
   "cell_type": "markdown",
   "metadata": {},
   "source": []
  },
  {
   "cell_type": "code",
   "execution_count": 16,
   "metadata": {},
   "outputs": [
    {
     "ename": "SyntaxError",
     "evalue": "invalid syntax (<ipython-input-16-218436a88f6a>, line 1)",
     "output_type": "error",
     "traceback": [
      "\u001b[0;36m  File \u001b[0;32m\"<ipython-input-16-218436a88f6a>\"\u001b[0;36m, line \u001b[0;32m1\u001b[0m\n\u001b[0;31m    qwe rt qw rut qwe rut\u001b[0m\n\u001b[0m         ^\u001b[0m\n\u001b[0;31mSyntaxError\u001b[0m\u001b[0;31m:\u001b[0m invalid syntax\n"
     ]
    }
   ],
   "source": [
    "qwe rt qw rut qwe rut"
   ]
  },
  {
   "cell_type": "code",
   "execution_count": 1,
   "metadata": {},
   "outputs": [
    {
     "name": "stdout",
     "output_type": "stream",
     "text": [
      "ewer rt\n",
      "['ewer', 'rt']\n",
      "{'ewer': 1, 'rt': 1}\n",
      "ewer\n"
     ]
    }
   ],
   "source": [
    "a = input().split()\n",
    "k = {}\n",
    "q = 0\n",
    "j = []\n",
    "print(a)\n",
    "for elem in a:\n",
    "    k[elem] = a.count(elem)\n",
    "print(k)\n",
    "for elem in k:\n",
    "    if k[elem] > q:\n",
    "        q = k[elem]\n",
    "for elem in k:\n",
    "    if k[elem] == q:\n",
    "        j.append(elem)\n",
    "j.sort()\n",
    "print(j[0])"
   ]
  },
  {
   "cell_type": "code",
   "execution_count": 43,
   "metadata": {},
   "outputs": [
    {
     "name": "stdout",
     "output_type": "stream",
     "text": [
      "['apple', 'orange', 'banana', 'banana', 'orange']\n",
      "banana\n"
     ]
    }
   ],
   "source": [
    "a = open('input.txt')\n",
    "k = {}\n",
    "q = 0\n",
    "l = 0\n",
    "newLine = []\n",
    "j = []\n",
    "for line in a:\n",
    "    newLine += line.split()\n",
    "print(newLine)\n",
    "for elem in newLine:\n",
    "    if q <= newLine.count(elem):\n",
    "        k[elem] = newLine.count(elem)\n",
    "        q = newLine.count(elem)\n",
    "        l = max(l, k[elem])\n",
    "for elem in k:\n",
    "    if k[elem] == l:\n",
    "        j.append(elem)\n",
    "j.sort()\n",
    "print(j[0])"
   ]
  },
  {
   "cell_type": "code",
   "execution_count": 8,
   "metadata": {},
   "outputs": [
    {
     "name": "stdout",
     "output_type": "stream",
     "text": [
      "oh\n",
      "you\n",
      "touch\n",
      "my\n",
      "tralala\n",
      "mmm\n",
      "my\n",
      "ding\n",
      "ding\n",
      "dong\n",
      "ding\n"
     ]
    }
   ],
   "source": [
    "a = open('input.txt')\n",
    "newLine = []\n",
    "words = dict()\n",
    "q = 0\n",
    "for line in a:\n",
    "    newLine += line.split()\n",
    "for elem in newLine:\n",
    "    if elem not in words:\n",
    "        words[elem] = 0\n",
    "    words[elem] += 1\n",
    "for c in sorted(words):\n",
    "    if words[c] > q:\n",
    "        q = words[c]\n",
    "        w = c\n",
    "print(w)"
   ]
  },
  {
   "cell_type": "code",
   "execution_count": 119,
   "metadata": {},
   "outputs": [
    {
     "name": "stdout",
     "output_type": "stream",
     "text": [
      "ding\n",
      "my\n",
      "dong\n",
      "mmm\n",
      "oh\n",
      "touch\n",
      "tralala\n",
      "you\n"
     ]
    }
   ],
   "source": [
    "a = open('input.txt')\n",
    "newLine = []\n",
    "words = dict()\n",
    "newWord = []\n",
    "q = 0\n",
    "for line in a:\n",
    "    newLine += line.split()\n",
    "for elem in newLine:\n",
    "    if elem not in words:\n",
    "        words[elem] = 0\n",
    "    words[elem] += 1\n",
    "for elem in words:\n",
    "    newWord.append((words[elem], elem))\n",
    "newWord.sort(key=lambda x: (-x[0], x[1]))\n",
    "for elem in newWord:\n",
    "    print(elem[1])"
   ]
  },
  {
   "cell_type": "code",
   "execution_count": 16,
   "metadata": {},
   "outputs": [
    {
     "name": "stdout",
     "output_type": "stream",
     "text": [
      "Варфоломей Виссарионов\n",
      "Полуэкт Варфоломеев\n"
     ]
    }
   ],
   "source": [
    "a = open('input.txt', 'r', encoding='utf8')\n",
    "b = open('output.txt', 'w', encoding='utf8')\n",
    "newLine = []\n",
    "newName = []\n",
    "golos = dict()\n",
    "i = 0\n",
    "for line in a:\n",
    "    newLine.append(line.strip())\n",
    "for name in newLine:\n",
    "    if name not in golos:\n",
    "        golos[name] = 0\n",
    "    golos[name] += 1\n",
    "    i += 1\n",
    "i = i / 2\n",
    "for name in golos:\n",
    "    newName.append((name, golos[name]))\n",
    "    newName.sort(key=lambda x: -x[1])\n",
    "for name in newName:\n",
    "    if name[1] > i:\n",
    "        print(name[0], file=b)\n",
    "        break\n",
    "    else:\n",
    "        for i in range(2):\n",
    "            print(newName[i][0], file=b)\n",
    "        break\n",
    "b.close()"
   ]
  },
  {
   "cell_type": "code",
   "execution_count": null,
   "metadata": {
    "collapsed": true
   },
   "outputs": [],
   "source": []
  }
 ],
 "metadata": {
  "kernelspec": {
   "display_name": "Python 3",
   "language": "python",
   "name": "python3"
  },
  "language_info": {
   "codemirror_mode": {
    "name": "ipython",
    "version": 3
   },
   "file_extension": ".py",
   "mimetype": "text/x-python",
   "name": "python",
   "nbconvert_exporter": "python",
   "pygments_lexer": "ipython3",
   "version": "3.6.1"
  }
 },
 "nbformat": 4,
 "nbformat_minor": 2
}
