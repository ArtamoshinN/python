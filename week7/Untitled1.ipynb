{
 "cells": [
  {
   "cell_type": "code",
   "execution_count": 7,
   "metadata": {},
   "outputs": [
    {
     "name": "stdout",
     "output_type": "stream",
     "text": [
      "2\n",
      "Ololo Ololo\n",
      "Numbers 1234567890\n",
      "1234567890\n",
      "Numbers\n"
     ]
    }
   ],
   "source": [
    "n = int(input())\n",
    "k = {}\n",
    "for i in range(n):\n",
    "    a = input()\n",
    "    s1, s2 = a.split()\n",
    "    k[s1] = []\n",
    "    k[s1].append(s2)\n",
    "word = input()\n",
    "for elem in k:\n",
    "    if [word] == k[elem]:\n",
    "        print(elem)\n",
    "    elif word == elem:\n",
    "        print(*k[elem])"
   ]
  },
  {
   "cell_type": "code",
   "execution_count": null,
   "metadata": {
    "collapsed": true
   },
   "outputs": [],
   "source": [
    "Ololo Ololo\n",
    "Numbers 1234567890\n",
    "Numbers"
   ]
  }
 ],
 "metadata": {
  "kernelspec": {
   "display_name": "Python 3",
   "language": "python",
   "name": "python3"
  },
  "language_info": {
   "codemirror_mode": {
    "name": "ipython",
    "version": 3
   },
   "file_extension": ".py",
   "mimetype": "text/x-python",
   "name": "python",
   "nbconvert_exporter": "python",
   "pygments_lexer": "ipython3",
   "version": "3.6.1"
  }
 },
 "nbformat": 4,
 "nbformat_minor": 2
}
