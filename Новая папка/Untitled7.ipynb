{
 "cells": [
  {
   "cell_type": "code",
   "execution_count": 22,
   "metadata": {},
   "outputs": [
    {
     "name": "stdout",
     "output_type": "stream",
     "text": [
      "4\n",
      "7 15 3 4\n",
      "10 10 0 6\n",
      "3\n",
      "1 1 4\n",
      "4 1 6\n",
      "2 2 10\n"
     ]
    },
    {
     "ename": "NameError",
     "evalue": "name 'a' is not defined",
     "output_type": "error",
     "traceback": [
      "\u001b[0;31m---------------------------------------------------------------------------\u001b[0m",
      "\u001b[0;31mNameError\u001b[0m                                 Traceback (most recent call last)",
      "\u001b[0;32m<ipython-input-22-f99901d82b06>\u001b[0m in \u001b[0;36m<module>\u001b[0;34m()\u001b[0m\n\u001b[1;32m     22\u001b[0m         \u001b[0mb\u001b[0m\u001b[0;34m[\u001b[0m\u001b[0mi\u001b[0m\u001b[0;34m]\u001b[0m\u001b[0;34m[\u001b[0m\u001b[0;36m1\u001b[0m\u001b[0;34m]\u001b[0m \u001b[0;34m=\u001b[0m \u001b[0mi\u001b[0m\u001b[0;34m\u001b[0m\u001b[0m\n\u001b[1;32m     23\u001b[0m     \u001b[0mprint\u001b[0m\u001b[0;34m(\u001b[0m\u001b[0mai\u001b[0m\u001b[0;34m,\u001b[0m \u001b[0mbi\u001b[0m\u001b[0;34m)\u001b[0m\u001b[0;34m\u001b[0m\u001b[0m\n\u001b[0;32m---> 24\u001b[0;31m \u001b[0mmax_sum\u001b[0m\u001b[0;34m(\u001b[0m\u001b[0;34m)\u001b[0m\u001b[0;34m\u001b[0m\u001b[0m\n\u001b[0m",
      "\u001b[0;32m<ipython-input-22-f99901d82b06>\u001b[0m in \u001b[0;36mmax_sum\u001b[0;34m()\u001b[0m\n\u001b[1;32m     19\u001b[0m \u001b[0;34m\u001b[0m\u001b[0m\n\u001b[1;32m     20\u001b[0m     \u001b[0;32mfor\u001b[0m \u001b[0mi\u001b[0m \u001b[0;32min\u001b[0m \u001b[0mrange\u001b[0m\u001b[0;34m(\u001b[0m\u001b[0mlen\u001b[0m\u001b[0;34m(\u001b[0m\u001b[0mai\u001b[0m\u001b[0;34m)\u001b[0m\u001b[0;34m)\u001b[0m\u001b[0;34m:\u001b[0m\u001b[0;34m\u001b[0m\u001b[0m\n\u001b[0;32m---> 21\u001b[0;31m         \u001b[0ma\u001b[0m\u001b[0;34m[\u001b[0m\u001b[0mi\u001b[0m\u001b[0;34m]\u001b[0m\u001b[0;34m[\u001b[0m\u001b[0;36m1\u001b[0m\u001b[0;34m]\u001b[0m \u001b[0;34m=\u001b[0m \u001b[0mi\u001b[0m\u001b[0;34m\u001b[0m\u001b[0m\n\u001b[0m\u001b[1;32m     22\u001b[0m         \u001b[0mb\u001b[0m\u001b[0;34m[\u001b[0m\u001b[0mi\u001b[0m\u001b[0;34m]\u001b[0m\u001b[0;34m[\u001b[0m\u001b[0;36m1\u001b[0m\u001b[0;34m]\u001b[0m \u001b[0;34m=\u001b[0m \u001b[0mi\u001b[0m\u001b[0;34m\u001b[0m\u001b[0m\n\u001b[1;32m     23\u001b[0m     \u001b[0mprint\u001b[0m\u001b[0;34m(\u001b[0m\u001b[0mai\u001b[0m\u001b[0;34m,\u001b[0m \u001b[0mbi\u001b[0m\u001b[0;34m)\u001b[0m\u001b[0;34m\u001b[0m\u001b[0m\n",
      "\u001b[0;31mNameError\u001b[0m: name 'a' is not defined"
     ]
    }
   ],
   "source": [
    "def read_input():\n",
    "    num = int(input())\n",
    "    ai = list(map(int, input().split()))\n",
    "    bi = list(map(int, input().split()))\n",
    "\n",
    "    sert_num = int(input())\n",
    "    num_i = []\n",
    "    type_i = []\n",
    "    d_i = []\n",
    "    for i in range(sert_num):\n",
    "        num_inp, type_inp, d_inp = [int(i) for i in input().split()]\n",
    "        num_i.append(num_inp)\n",
    "        type_i.append(type_inp)\n",
    "        d_i.append(d_inp)\n",
    "    return ai, bi, num_i, type_i, d_i\n",
    "def max_sum():\n",
    "    ai, bi, num_i, type_i, d_i = read_input()\n",
    "    maximum = 0\n",
    "    \n",
    "    for i in range(len(ai)):\n",
    "        ai[i][1] = i\n",
    "        bi[i][1] = i\n",
    "    print(ai, bi)\n",
    "max_sum()"
   ]
  },
  {
   "cell_type": "code",
   "execution_count": null,
   "metadata": {
    "collapsed": true
   },
   "outputs": [],
   "source": [
    "4\n",
    "7 15 3 4\n",
    "10 10 0 6\n",
    "3\n",
    "1 1 4\n",
    "4 1 6\n",
    "2 2 10"
   ]
  },
  {
   "cell_type": "code",
   "execution_count": 165,
   "metadata": {},
   "outputs": [
    {
     "name": "stdout",
     "output_type": "stream",
     "text": [
      "4\n",
      "7 15 3 4\n",
      "10 10 0 6\n",
      "3\n",
      "1 1 4\n",
      "[[11, 1, 1], [15, 2, 1], [3, 3, 1], [4, 4, 1], [10, 1, 2], [10, 2, 2], [0, 3, 2], [6, 4, 2]]\n",
      "34\n",
      "4 1 6\n",
      "[[11, 1, 1], [15, 2, 1], [3, 3, 1], [10, 4, 1], [10, 1, 2], [10, 2, 2], [0, 3, 2], [6, 4, 2]]\n",
      "35\n",
      "2 2 10\n",
      "[[11, 1, 1], [15, 2, 1], [3, 3, 1], [10, 4, 1], [10, 1, 2], [20, 2, 2], [0, 3, 2], [6, 4, 2]]\n",
      "41\n"
     ]
    }
   ],
   "source": [
    "import copy\n",
    "def read_input():\n",
    "    num = int(input())\n",
    "    ai = list(map(int, input().split()))\n",
    "    bi = list(map(int, input().split()))\n",
    "    for i in range(len(ai)):\n",
    "        ai[i] = [ai[i], i + 1, 1]\n",
    "        bi[i] = [bi[i], i + 1, 2]\n",
    "    sum_i = ai + bi\n",
    "    sert_num = int(input())\n",
    "\n",
    "    for i in range(sert_num):\n",
    "        num_i, type_i, d_i = [int(i) for i in input().split()]\n",
    "        plus_sert(sum_i, num_i, type_i, d_i)\n",
    "        sum_prob = copy.deepcopy(sum_i)\n",
    "        print(max_sum(sum_prob))\n",
    "        \n",
    "\n",
    "def plus_sert(sum_i, num_i, type_i, d_i):\n",
    "    for i in range(len(sum_i)):\n",
    "        if sum_i[i][1] == num_i:\n",
    "            if sum_i[i][2] == type_i:\n",
    "                sum_i[i][0] += d_i\n",
    "    return sum_i\n",
    "\n",
    "    \n",
    "def max_sum(sum_i):\n",
    "    ii = None\n",
    "    jj = None\n",
    "    m = 0\n",
    "    sum_i.sort(key=lambda x: -x[0])\n",
    "    for i in range(len(sum_i)):\n",
    "        for j in range(len(sum_i)):\n",
    "            if sum_i[i][1] != sum_i[j][1]:\n",
    "                if sum_i[i][2] != sum_i[j][2]:\n",
    "                    if sum_i[i][1] != 0 and sum_i[j][1] != 0:\n",
    "                        if sum_i[i][2] != 0 and sum_i[j][2] != 0:\n",
    "                            if j > i and ii != sum_i[i][1] and jj != sum_i[j][1]:\n",
    "                                if ii != sum_i[j][1] and jj != sum_i[i][1]:\n",
    "                                    m += sum_i[i][0]\n",
    "                                    m += sum_i[j][0]\n",
    "                                    ii = sum_i[i][1]\n",
    "                                    jj = sum_i[j][1]\n",
    "                                    sum_i[i][1] = 0\n",
    "                                    sum_i[j][1] = 0\n",
    "                                    sum_i[i][2] = 0\n",
    "                                    sum_i[j][2] = 0\n",
    "                                    break\n",
    "    return m\n",
    "read_input()"
   ]
  },
  {
   "cell_type": "code",
   "execution_count": 154,
   "metadata": {},
   "outputs": [
    {
     "ename": "SyntaxError",
     "evalue": "invalid syntax (<ipython-input-154-f0535d96f158>, line 2)",
     "output_type": "error",
     "traceback": [
      "\u001b[0;36m  File \u001b[0;32m\"<ipython-input-154-f0535d96f158>\"\u001b[0;36m, line \u001b[0;32m2\u001b[0m\n\u001b[0;31m    7 15 3 4\u001b[0m\n\u001b[0m       ^\u001b[0m\n\u001b[0;31mSyntaxError\u001b[0m\u001b[0;31m:\u001b[0m invalid syntax\n"
     ]
    }
   ],
   "source": [
    "4\n",
    "7 15 3 4\n",
    "10 10 0 6\n",
    "3\n",
    "1 1 4\n",
    "4 1 6\n",
    "2 2 10"
   ]
  },
  {
   "cell_type": "code",
   "execution_count": 132,
   "metadata": {},
   "outputs": [
    {
     "name": "stdout",
     "output_type": "stream",
     "text": [
      "4\n",
      "7 15 3 4\n",
      "10 10 0 6\n",
      "3\n",
      "1 1 4\n",
      "4 1 6\n",
      "2 2 10\n",
      "[1, 4, 2] [1, 1, 2] [4, 6, 10]\n",
      "[[7, 1, 1], [15, 2, 1], [3, 3, 1], [4, 4, 1], [10, 1, 2], [10, 2, 2], [0, 3, 2], [6, 4, 2]]\n",
      "[[11, 1, 1], [15, 2, 1], [3, 3, 1], [10, 4, 1], [10, 1, 2], [20, 2, 2], [0, 3, 2], [6, 4, 2]]\n"
     ]
    }
   ],
   "source": [
    "def read_input():\n",
    "    num = int(input())\n",
    "    ai = list(map(int, input().split()))\n",
    "    bi = list(map(int, input().split()))\n",
    "\n",
    "    sert_num = int(input())\n",
    "    num_i = []\n",
    "    type_i = []\n",
    "    d_i = []\n",
    "    for i in range(sert_num):\n",
    "        num_inp, type_inp, d_inp = [int(i) for i in input().split()]\n",
    "        num_i.append(num_inp)\n",
    "        type_i.append(type_inp)\n",
    "        d_i.append(d_inp)\n",
    "\n",
    "    ii = None\n",
    "    jj = None\n",
    "    for i in range(len(ai)):\n",
    "        ai[i] = [ai[i], i + 1, 1]\n",
    "        bi[i] = [bi[i], i + 1, 2]\n",
    "    print(num_i, type_i, d_i)\n",
    "    sum_i = ai + bi\n",
    "    print(sum_i)\n",
    "    for i in range(len(sum_i)):\n",
    "        for j in range(len(d_i)):\n",
    "            if sum_i[i][1] == num_i[j]:\n",
    "                if sum_i[i][2] == type_i[j]:\n",
    "                    sum_i[i][0] += d_i[j]\n",
    "    print(sum_i)\n",
    "read_input()"
   ]
  },
  {
   "cell_type": "code",
   "execution_count": 77,
   "metadata": {},
   "outputs": [
    {
     "name": "stdout",
     "output_type": "stream",
     "text": [
      "[[1, 3, 4], [5, 2]]\n"
     ]
    }
   ],
   "source": [
    "a = [[1, 3, 4], [5, 2], [3, 6]]\n",
    "\n",
    "a.pop(2)\n",
    "print(a)"
   ]
  },
  {
   "cell_type": "code",
   "execution_count": 87,
   "metadata": {},
   "outputs": [
    {
     "name": "stdout",
     "output_type": "stream",
     "text": [
      "range(0, 5)\n"
     ]
    }
   ],
   "source": [
    "a = range(5)\n",
    "print(a)"
   ]
  },
  {
   "cell_type": "code",
   "execution_count": null,
   "metadata": {
    "collapsed": true
   },
   "outputs": [],
   "source": []
  }
 ],
 "metadata": {
  "kernelspec": {
   "display_name": "Python 3",
   "language": "python",
   "name": "python3"
  },
  "language_info": {
   "codemirror_mode": {
    "name": "ipython",
    "version": 3
   },
   "file_extension": ".py",
   "mimetype": "text/x-python",
   "name": "python",
   "nbconvert_exporter": "python",
   "pygments_lexer": "ipython3",
   "version": "3.6.1"
  }
 },
 "nbformat": 4,
 "nbformat_minor": 2
}
