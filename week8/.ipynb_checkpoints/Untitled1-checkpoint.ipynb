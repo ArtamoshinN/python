{
 "cells": [
  {
   "cell_type": "code",
   "execution_count": 9,
   "metadata": {},
   "outputs": [
    {
     "name": "stdout",
     "output_type": "stream",
     "text": [
      "20\n",
      "79 64 13 8 38 29 58 20 56 17 53 19 20 85 82 39 58 46 51 69\n",
      "2\n",
      "20 64\n",
      "2 2 1 1 1 1 2 8 2 1 2 1 13 2 2 16 17 18 19 2 CPU times: user 7.99 ms, sys: 2.91 ms, total: 10.9 ms\n",
      "Wall time: 22.9 s\n"
     ]
    }
   ],
   "source": [
    "%%time\n",
    "n = int(input())\n",
    "a = list(map(int, input().split()))\n",
    "m = int(input())\n",
    "b = list(map(int, input().split()))\n",
    "for i in range(m):\n",
    "    b[i] = [i + 1, b[i]]\n",
    "for i in range(n):\n",
    "    a[i] = [i + 1, a[i]]\n",
    "b.sort(key=lambda x: x[1])\n",
    "j = 0\n",
    "for elem in a:\n",
    "    if elem[1] < b[0][1]:\n",
    "        elem = [b[0][0], elem[1]]\n",
    "    if elem[1] > b[-1][1]:\n",
    "        elem = [b[-1][0], elem[1]]\n",
    "        m -= 1\n",
    "    while elem[1] > b[j][1] and j < m:\n",
    "        if abs(b[j][1] - elem[1]) >= abs(b[j + 1][1] - elem[1]):\n",
    "            elem = [b[j + 1][0], elem[1]]\n",
    "            j += 1\n",
    "        else:\n",
    "            elem = [b[j][0], elem[1]]\n",
    "            j += 1\n",
    "    j = 0\n",
    "    print(elem[0], end=' ')"
   ]
  },
  {
   "cell_type": "markdown",
   "metadata": {},
   "source": [
    "79 64 13 8 38 29 58 20 56 17\n",
    "53 19 20 85 82 39 58 46 51 69\n",
    "5 10 2 2 6 3 7 3 7 2"
   ]
  },
  {
   "cell_type": "code",
   "execution_count": null,
   "metadata": {
    "collapsed": true
   },
   "outputs": [],
   "source": [
    "[[1, 79], [2, 64], [3, 13], [4, 8], [5, 38], [6, 29], [7, 58], [8, 20], [9, 56], [10, 17]]\n",
    "[[2, 19], [3, 20], [6, 39], [8, 46], [9, 51], ![1, 53], [7, 58], [10, 69], [5, 82], [4, 85]]\n"
   ]
  },
  {
   "cell_type": "code",
   "execution_count": 10,
   "metadata": {},
   "outputs": [
    {
     "name": "stdout",
     "output_type": "stream",
     "text": [
      "20\n",
      "79 64 13 8 38 29 58 20 56 17 53 19 20 85 82 39 58 46 51 69\n",
      "2\n",
      "20 64\n",
      "2 2 1 1 1 1 2 1 2 1 2 1 1 2 2 1 2 2 2 2 CPU times: user 7.88 ms, sys: 2.57 ms, total: 10.4 ms\n",
      "Wall time: 5.32 s\n"
     ]
    }
   ],
   "source": [
    "n = int(input())\n",
    "a = list(map(int, input().split()))\n",
    "m = int(input())\n",
    "b = list(map(int, input().split()))\n",
    "for i in range(m):\n",
    "    b[i] = [i + 1, b[i]]\n",
    "b.sort(key=lambda x: x[1])\n",
    "m -= 1\n",
    "\n",
    "\n",
    "def search(b, elem):\n",
    "    k = int((len(b) - 1) / 2)\n",
    "    i = k\n",
    "    if elem <= b[0][1]:\n",
    "        return b[0][0]\n",
    "    elif elem >= b[len(b) - 1][1]:\n",
    "        return b[len(b) - 1][0]\n",
    "    while not (b[k][1] <= elem <= b[k + 1][1]):\n",
    "        if elem < b[k][1]:\n",
    "            k = k - int(i / 2)\n",
    "            i /= 2\n",
    "        elif elem > b[k][1]:\n",
    "            k = k + int(i / 2)\n",
    "            i /= 2\n",
    "        else:\n",
    "            return b[k][0]\n",
    "    if elem != b[k][1]:\n",
    "        if abs(b[k][1] - elem) < abs(b[k + 1][1] - elem):\n",
    "            return b[k][0]\n",
    "        else:\n",
    "            return b[k + 1][0]\n",
    "    else:\n",
    "        return b[k][0]\n",
    "for elem in a:\n",
    "    print(*[search(b, elem)], end=' ')"
   ]
  },
  {
   "cell_type": "code",
   "execution_count": null,
   "metadata": {
    "collapsed": true
   },
   "outputs": [],
   "source": [
    "79 64 13 8 38 29 58 20 56 17\n",
    "53 19 20 85 82 39 58 46 51 69\n",
    "5 10 2 2 6 3 7 3 7 2"
   ]
  }
 ],
 "metadata": {
  "kernelspec": {
   "display_name": "Python 3",
   "language": "python",
   "name": "python3"
  },
  "language_info": {
   "codemirror_mode": {
    "name": "ipython",
    "version": 3
   },
   "file_extension": ".py",
   "mimetype": "text/x-python",
   "name": "python",
   "nbconvert_exporter": "python",
   "pygments_lexer": "ipython3",
   "version": "3.6.1"
  }
 },
 "nbformat": 4,
 "nbformat_minor": 2
}
