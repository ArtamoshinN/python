{
 "cells": [
  {
   "cell_type": "code",
   "execution_count": 1,
   "metadata": {},
   "outputs": [
    {
     "name": "stdout",
     "output_type": "stream",
     "text": [
      "1 2 3 -9 -1 0 2 -10\n",
      "1 2 3 2\n"
     ]
    }
   ],
   "source": [
    "numb = map(int, input().split())\n",
    "print(*filter(lambda x: x > 0, numb))#фильтрует данные по параметру, все это можно записать в одну строку"
   ]
  },
  {
   "cell_type": "code",
   "execution_count": 3,
   "metadata": {},
   "outputs": [
    {
     "name": "stdout",
     "output_type": "stream",
     "text": [
      "1 2 4 -2 -5 0\n",
      "1 2 4\n"
     ]
    }
   ],
   "source": [
    "print(\n",
    "    *filter(\n",
    "        lambda x: x > 0, \n",
    "        map(\n",
    "            int, \n",
    "            input().split()\n",
    "        )\n",
    "    )\n",
    ")"
   ]
  },
  {
   "cell_type": "code",
   "execution_count": 6,
   "metadata": {},
   "outputs": [
    {
     "name": "stdout",
     "output_type": "stream",
     "text": [
      "(0, 'a') (1, 'bcd')\n",
      "(0, 'a') (1, 'b') (2, 'c') (3, 'd')\n"
     ]
    }
   ],
   "source": [
    "print(*enumerate(['a', 'bcd']))#enumerate() пронумеровать каждый объект\n",
    "print(*enumerate('abcd'))"
   ]
  },
  {
   "cell_type": "code",
   "execution_count": 10,
   "metadata": {},
   "outputs": [
    {
     "name": "stdout",
     "output_type": "stream",
     "text": [
      "True\n",
      "False\n"
     ]
    }
   ],
   "source": [
    "print(any((True, False, True)))# any возвращает true если хотя бы один из объектов true\n",
    "print(all((True, False, True)))# all возвращает true если все объекты true"
   ]
  },
  {
   "cell_type": "code",
   "execution_count": 13,
   "metadata": {},
   "outputs": [
    {
     "name": "stdout",
     "output_type": "stream",
     "text": [
      "1 2 3 -1 3 4\n",
      "False\n"
     ]
    }
   ],
   "source": [
    "print(\n",
    "    all(\n",
    "        map(\n",
    "            lambda x: x > 0,\n",
    "            map(\n",
    "                int,\n",
    "                input().split()\n",
    "            )\n",
    "        )\n",
    "    )\n",
    ")"
   ]
  },
  {
   "cell_type": "code",
   "execution_count": 24,
   "metadata": {},
   "outputs": [
    {
     "name": "stdout",
     "output_type": "stream",
     "text": [
      "1 2\n",
      "10 20\n",
      "2 1\n"
     ]
    }
   ],
   "source": [
    "print(\n",
    "    *map(\n",
    "        lambda x: x[1][0] + 1, \n",
    "        sorted(\n",
    "            zip(\n",
    "                sorted(\n",
    "                    enumerate(\n",
    "                        map(\n",
    "                            int, \n",
    "                            input().split()\n",
    "                        )\n",
    "                    ), \n",
    "                    key=lambda x: x[1]\n",
    "                ), \n",
    "                sorted(\n",
    "                    enumerate(\n",
    "                        map(\n",
    "                            int, \n",
    "                            input().split()\n",
    "                        )\n",
    "                    ), \n",
    "                    key=lambda x: x[1], \n",
    "                    reverse=True\n",
    "                )\n",
    "            ), \n",
    "            key=lambda x: x[0][0]\n",
    "        )\n",
    "    )\n",
    ")"
   ]
  },
  {
   "cell_type": "code",
   "execution_count": 36,
   "metadata": {},
   "outputs": [
    {
     "name": "stdout",
     "output_type": "stream",
     "text": [
      "(1, 2) (1, 3) (2, 3)\n",
      "(1, 2, 3) (1, 3, 2) (2, 1, 3) (2, 3, 1) (3, 1, 2) (3, 2, 1)\n",
      "(1, 2) (1, 3) (2, 1) (2, 3) (3, 1) (3, 2)\n",
      "(1, 1) (1, 2) (1, 3) (2, 2) (2, 3) (3, 3)\n",
      "1 4 4 5\n"
     ]
    }
   ],
   "source": [
    "import itertools\n",
    "\n",
    "print(*itertools.combinations([1, 2, 3], 2))#без перестановки подмножества множества размером r (тут размер 2)\n",
    "print(*itertools.permutations([1, 2, 3]))#все перестановки элементов множества\n",
    "print(*itertools.permutations([1, 2, 3], 2))#все перестановки по 2 элемента\n",
    "print(*itertools.combinations_with_replacement([1, 2, 3], 2))\n",
    "print(*itertools.accumulate([1, 4, 3, 5], max))"
   ]
  },
  {
   "cell_type": "code",
   "execution_count": 35,
   "metadata": {},
   "outputs": [
    {
     "name": "stdout",
     "output_type": "stream",
     "text": [
      "1 2 \n",
      "6\n"
     ]
    }
   ],
   "source": [
    "import functools\n",
    "\n",
    "prints = functools.partial(print, end=' ')#задает для функции параметры по умолчанию\n",
    "prints(1)\n",
    "prints(2)\n",
    "print()\n",
    "print(functools.reduce(lambda x, y: x + y, [1, 2, 3]))"
   ]
  },
  {
   "cell_type": "code",
   "execution_count": 43,
   "metadata": {},
   "outputs": [
    {
     "name": "stdout",
     "output_type": "stream",
     "text": [
      "1 2 3 4 5 6 7 8 9 10\n",
      "10\n"
     ]
    }
   ],
   "source": [
    "print(\n",
    "    len(\n",
    "        set(\n",
    "            map(\n",
    "                int, \n",
    "                input().split()\n",
    "            )\n",
    "        )\n",
    "    )\n",
    ")"
   ]
  },
  {
   "cell_type": "code",
   "execution_count": 16,
   "metadata": {},
   "outputs": [
    {
     "name": "stdout",
     "output_type": "stream",
     "text": [
      "19\n"
     ]
    }
   ],
   "source": [
    "def kol():\n",
    "    n = open('input.txt')\n",
    "    l = []\n",
    "    for line in n:\n",
    "        k = list(line.split())\n",
    "        l += k\n",
    "    return len(set(l))\n",
    "print(kol())"
   ]
  },
  {
   "cell_type": "code",
   "execution_count": 177,
   "metadata": {},
   "outputs": [
    {
     "name": "stdout",
     "output_type": "stream",
     "text": [
      "19\n"
     ]
    }
   ],
   "source": [
    "import functools\n",
    "print(\n",
    "    len(\n",
    "        set(\n",
    "            functools.reduce(\n",
    "                lambda x, y: x + y, \n",
    "                list(\n",
    "                    map(\n",
    "                        lambda x: x.split(), \n",
    "                        open('input.txt').readlines()\n",
    "                    )\n",
    "                )\n",
    "            )\n",
    "        )\n",
    "    )\n",
    ")"
   ]
  },
  {
   "cell_type": "code",
   "execution_count": 17,
   "metadata": {},
   "outputs": [
    {
     "name": "stdout",
     "output_type": "stream",
     "text": [
      "2 4 6 9\n",
      "9\n"
     ]
    }
   ],
   "source": [
    "print(\n",
    "    min(\n",
    "        filter(\n",
    "            lambda x: x % 2 == 1, \n",
    "            map(\n",
    "                int, \n",
    "                input().split()\n",
    "            )\n",
    "        )\n",
    "    )\n",
    ")"
   ]
  },
  {
   "cell_type": "code",
   "execution_count": 25,
   "metadata": {},
   "outputs": [
    {
     "name": "stdout",
     "output_type": "stream",
     "text": [
      "5\n",
      "0\n",
      "0\n",
      "0\n",
      "0\n",
      "1\n",
      "True\n"
     ]
    }
   ],
   "source": [
    "print(\n",
    "    any(\n",
    "        list(\n",
    "            map(\n",
    "                lambda x: int(input()) == 0, \n",
    "                range(\n",
    "                    int(\n",
    "                        input()\n",
    "                    )\n",
    "                )\n",
    "            )\n",
    "        )\n",
    "    )\n",
    ")"
   ]
  },
  {
   "cell_type": "code",
   "execution_count": 69,
   "metadata": {},
   "outputs": [
    {
     "name": "stdout",
     "output_type": "stream",
     "text": [
      "1 0\n",
      "0\n"
     ]
    }
   ],
   "source": [
    "import functools\n",
    "print(\n",
    "    functools.reduce(\n",
    "        lambda x, y: x * y, \n",
    "        map(\n",
    "            lambda x: x ** 5, \n",
    "            map(\n",
    "                int, \n",
    "                input().split()\n",
    "            )\n",
    "        )\n",
    "    )\n",
    ")"
   ]
  },
  {
   "cell_type": "code",
   "execution_count": 71,
   "metadata": {},
   "outputs": [
    {
     "name": "stdout",
     "output_type": "stream",
     "text": [
      "0 0 1 1\n",
      "0 1 0 1\n",
      "0 1 1 0\n"
     ]
    }
   ],
   "source": [
    "print(\n",
    "    *map(\n",
    "        lambda x: (x[0] + x[1]) % 2, \n",
    "        zip(\n",
    "            map(\n",
    "                int, \n",
    "                input().split()\n",
    "            ), \n",
    "            map(\n",
    "                int, \n",
    "                input().split()\n",
    "            )\n",
    "        )\n",
    "    )\n",
    ")"
   ]
  },
  {
   "cell_type": "code",
   "execution_count": null,
   "metadata": {
    "collapsed": true
   },
   "outputs": [],
   "source": []
  }
 ],
 "metadata": {
  "kernelspec": {
   "display_name": "Python 3",
   "language": "python",
   "name": "python3"
  },
  "language_info": {
   "codemirror_mode": {
    "name": "ipython",
    "version": 3
   },
   "file_extension": ".py",
   "mimetype": "text/x-python",
   "name": "python",
   "nbconvert_exporter": "python",
   "pygments_lexer": "ipython3",
   "version": "3.6.1"
  }
 },
 "nbformat": 4,
 "nbformat_minor": 2
}
