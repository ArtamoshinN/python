{
 "cells": [
  {
   "cell_type": "code",
   "execution_count": 7,
   "metadata": {},
   "outputs": [
    {
     "name": "stdout",
     "output_type": "stream",
     "text": [
      "10\n",
      "79 64 13 8 38 29 58 20 56 17\n",
      "10\n",
      "53 19 20 85 82 39 58 46 51 69\n",
      "[[1, 79], [2, 64], [3, 13], [4, 8], [5, 38], [6, 29], [7, 58], [8, 20], [9, 56], [10, 17]]\n",
      "[[2, 19], [3, 20], [6, 39], [8, 46], [9, 51], [1, 53], [7, 58], [10, 69], [5, 82], [4, 85]]\n",
      "5 10 2 2 6 3 7 3 7 2 "
     ]
    }
   ],
   "source": [
    "n = int(input())\n",
    "a = list(map(int, input().split()))\n",
    "m = int(input())\n",
    "b = list(map(int, input().split()))\n",
    "for i in range(m):\n",
    "    b[i] = [i + 1, b[i]]\n",
    "for i in range(n):\n",
    "    a[i] = [i + 1, a[i]]\n",
    "b.sort(key=lambda x: x[1])\n",
    "print(a)\n",
    "print(b)\n",
    "j = 0\n",
    "for elem in a:\n",
    "    if elem[1] < b[0][1]:\n",
    "        elem = [b[0][0], elem[1]]\n",
    "    if elem[1] > b[-1][1]:\n",
    "        elem = [b[-1][0], elem[1]]\n",
    "        m -= 1\n",
    "    while elem[1] > b[j][1] and j < m:\n",
    "        if abs(b[j][1] - elem[1]) >= abs(b[j + 1][1] - elem[1]):\n",
    "            elem = [b[j + 1][0], elem[1]]\n",
    "            j += 1\n",
    "        else:\n",
    "            elem = [b[j][0], elem[1]]\n",
    "            j += 1\n",
    "    j = 0\n",
    "    print(elem[0], end=' ')"
   ]
  },
  {
   "cell_type": "markdown",
   "metadata": {},
   "source": [
    "79 64 13 8 38 29 58 20 56 17\n",
    "53 19 20 85 82 39 58 46 51 69\n",
    "5 10 2 2 6 3 7 3 7 2"
   ]
  },
  {
   "cell_type": "code",
   "execution_count": null,
   "metadata": {
    "collapsed": true
   },
   "outputs": [],
   "source": [
    "[[1, 79], [2, 64], [3, 13], [4, 8], [5, 38], [6, 29], [7, 58], [8, 20], [9, 56], [10, 17]]\n",
    "[[2, 19], [3, 20], [6, 39], [8, 46], [9, 51], ![1, 53], [7, 58], [10, 69], [5, 82], [4, 85]]\n"
   ]
  },
  {
   "cell_type": "code",
   "execution_count": 24,
   "metadata": {},
   "outputs": [
    {
     "name": "stdout",
     "output_type": "stream",
     "text": [
      "10\n",
      "53 19 20 85 82 39 58 46 51 69\n",
      "10\n",
      "53 19 20 85 82 39 58 46 51 69\n",
      "[[1, 53], [2, 19], [3, 20], [4, 85], [5, 82], [6, 39], [7, 58], [8, 46], [9, 51], [10, 69]]\n",
      "[[2, 19], [3, 20], [6, 39], [8, 46], [9, 51], [1, 53], [7, 58], [10, 69], [5, 82], [4, 85]]\n"
     ]
    },
    {
     "ename": "TypeError",
     "evalue": "'>' not supported between instances of 'int' and 'list'",
     "output_type": "error",
     "traceback": [
      "\u001b[0;31m---------------------------------------------------------------------------\u001b[0m",
      "\u001b[0;31mTypeError\u001b[0m                                 Traceback (most recent call last)",
      "\u001b[0;32m<ipython-input-24-ac438de18176>\u001b[0m in \u001b[0;36m<module>\u001b[0;34m()\u001b[0m\n\u001b[1;32m     26\u001b[0m         \u001b[0;32mreturn\u001b[0m \u001b[0mk\u001b[0m\u001b[0;34m\u001b[0m\u001b[0m\n\u001b[1;32m     27\u001b[0m \u001b[0;32mfor\u001b[0m \u001b[0melem\u001b[0m \u001b[0;32min\u001b[0m \u001b[0ma\u001b[0m\u001b[0;34m:\u001b[0m\u001b[0;34m\u001b[0m\u001b[0m\n\u001b[0;32m---> 28\u001b[0;31m     \u001b[0mprint\u001b[0m\u001b[0;34m(\u001b[0m\u001b[0;34m[\u001b[0m\u001b[0msearch\u001b[0m\u001b[0;34m(\u001b[0m\u001b[0mb\u001b[0m\u001b[0;34m,\u001b[0m \u001b[0melem\u001b[0m\u001b[0;34m[\u001b[0m\u001b[0;36m1\u001b[0m\u001b[0;34m]\u001b[0m\u001b[0;34m)\u001b[0m\u001b[0;34m]\u001b[0m\u001b[0;34m)\u001b[0m\u001b[0;34m\u001b[0m\u001b[0m\n\u001b[0m",
      "\u001b[0;32m<ipython-input-24-ac438de18176>\u001b[0m in \u001b[0;36msearch\u001b[0;34m(b, elem)\u001b[0m\n\u001b[1;32m     16\u001b[0m     \u001b[0mk\u001b[0m \u001b[0;34m=\u001b[0m \u001b[0mint\u001b[0m\u001b[0;34m(\u001b[0m\u001b[0mj\u001b[0m\u001b[0;34m/\u001b[0m\u001b[0;36m2\u001b[0m\u001b[0;34m)\u001b[0m\u001b[0;34m\u001b[0m\u001b[0m\n\u001b[1;32m     17\u001b[0m     \u001b[0;32mwhile\u001b[0m \u001b[0mb\u001b[0m\u001b[0;34m[\u001b[0m\u001b[0mk\u001b[0m\u001b[0;34m]\u001b[0m \u001b[0;34m!=\u001b[0m \u001b[0melem\u001b[0m \u001b[0;32mand\u001b[0m \u001b[0mi\u001b[0m \u001b[0;34m<\u001b[0m \u001b[0mj\u001b[0m\u001b[0;34m:\u001b[0m\u001b[0;34m\u001b[0m\u001b[0m\n\u001b[0;32m---> 18\u001b[0;31m         \u001b[0;32mif\u001b[0m \u001b[0melem\u001b[0m \u001b[0;34m>\u001b[0m \u001b[0mb\u001b[0m\u001b[0;34m[\u001b[0m\u001b[0mk\u001b[0m\u001b[0;34m]\u001b[0m\u001b[0;34m:\u001b[0m\u001b[0;34m\u001b[0m\u001b[0m\n\u001b[0m\u001b[1;32m     19\u001b[0m             \u001b[0mi\u001b[0m \u001b[0;34m=\u001b[0m \u001b[0mk\u001b[0m\u001b[0;34m+\u001b[0m\u001b[0;36m1\u001b[0m\u001b[0;34m\u001b[0m\u001b[0m\n\u001b[1;32m     20\u001b[0m         \u001b[0;32melse\u001b[0m\u001b[0;34m:\u001b[0m\u001b[0;34m\u001b[0m\u001b[0m\n",
      "\u001b[0;31mTypeError\u001b[0m: '>' not supported between instances of 'int' and 'list'"
     ]
    }
   ],
   "source": [
    "n = int(input())\n",
    "a = list(map(int, input().split()))\n",
    "m = int(input())\n",
    "b = list(map(int, input().split()))\n",
    "for i in range(m):\n",
    "    b[i] = [i + 1, b[i]]\n",
    "for i in range(n):\n",
    "    a[i] = [i + 1, a[i]]\n",
    "b.sort(key=lambda x: x[1])\n",
    "print(a)\n",
    "print(b)\n",
    "m = m - 1\n",
    "def search(b, elem):\n",
    "    i = 0\n",
    "    j = len(b)-1\n",
    "    k = int(j/2)\n",
    "    while b[k] != elem and i < j:\n",
    "        if elem > b[k]:\n",
    "            i = k+1\n",
    "        else:\n",
    "            j = k-1\n",
    "        k = int((i+j)/2)\n",
    "    if i > j:\n",
    "        return 'Нет такого'\n",
    "    else:\n",
    "        return k\n",
    "for elem in a:\n",
    "    print([search(b, elem[1])])"
   ]
  },
  {
   "cell_type": "code",
   "execution_count": null,
   "metadata": {
    "collapsed": true
   },
   "outputs": [],
   "source": []
  }
 ],
 "metadata": {
  "kernelspec": {
   "display_name": "Python 3",
   "language": "python",
   "name": "python3"
  },
  "language_info": {
   "codemirror_mode": {
    "name": "ipython",
    "version": 3
   },
   "file_extension": ".py",
   "mimetype": "text/x-python",
   "name": "python",
   "nbconvert_exporter": "python",
   "pygments_lexer": "ipython3",
   "version": "3.6.1"
  }
 },
 "nbformat": 4,
 "nbformat_minor": 2
}
