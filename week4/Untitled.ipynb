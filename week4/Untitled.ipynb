{
 "cells": [
  {
   "cell_type": "code",
   "execution_count": 3,
   "metadata": {},
   "outputs": [
    {
     "name": "stdout",
     "output_type": "stream",
     "text": [
      "6\n"
     ]
    }
   ],
   "source": [
    "def factorial(n):\n",
    "    result = 1\n",
    "    while n > 1:\n",
    "        result *= n\n",
    "        n -= 1\n",
    "    return result\n",
    "def cnk(n, k):\n",
    "    return factorial(n) // (factorial(k) * factorial(n - k))\n",
    "print(cnk(4, 2))"
   ]
  },
  {
   "cell_type": "code",
   "execution_count": 4,
   "metadata": {},
   "outputs": [
    {
     "name": "stdout",
     "output_type": "stream",
     "text": [
      "3\n",
      "5\n",
      "2\n",
      "7\n",
      "2\n"
     ]
    }
   ],
   "source": [
    "def min4(a, b, c, d):\n",
    "    a = min(a, b)\n",
    "    a = min(a, c)\n",
    "    a = min(a, d)\n",
    "    return a\n",
    "a = int(input())\n",
    "b = int(input())\n",
    "c = int(input())\n",
    "d = int(input())\n",
    "print(min4(a, b, c, d))"
   ]
  },
  {
   "cell_type": "code",
   "execution_count": 1,
   "metadata": {},
   "outputs": [
    {
     "name": "stdout",
     "output_type": "stream",
     "text": [
      "3\n",
      "-2\n",
      "-1\n",
      "7\n",
      "9.84886\n"
     ]
    }
   ],
   "source": [
    "def distance(x1, y1, x2, y2):\n",
    "    x1 = (x2 - x1) ** 2\n",
    "    y1 = (y2 - y1) ** 2\n",
    "    return (x1 + y1) ** 0.5\n",
    "x1 = int(input())\n",
    "y1 = int(input())\n",
    "x2 = int(input())\n",
    "y2 = int(input())\n",
    "print('{0:.6}'.format(distance(x1, y1, x2, y2)))"
   ]
  },
  {
   "cell_type": "code",
   "execution_count": 3,
   "metadata": {},
   "outputs": [
    {
     "name": "stdout",
     "output_type": "stream",
     "text": [
      "5\n",
      "7\n",
      "2\n",
      "7\n"
     ]
    }
   ],
   "source": [
    "def max2(a, b):\n",
    "    if a > b:\n",
    "        return a\n",
    "    else:\n",
    "        return b\n",
    "def max3(a, b, c):\n",
    "    return max2(max2(a, b), c)\n",
    "print(max2(2, 5))\n",
    "print(max2(7, 3))\n",
    "print(max2(2, 2))\n",
    "print(max3(3, 7, 1))"
   ]
  },
  {
   "cell_type": "code",
   "execution_count": 4,
   "metadata": {},
   "outputs": [
    {
     "name": "stdout",
     "output_type": "stream",
     "text": [
      "4 5\n"
     ]
    }
   ],
   "source": [
    "def sort2(a, b):\n",
    "    if a < b:\n",
    "        return a, b\n",
    "    return b, a\n",
    "min, max = sort2(5, 4)\n",
    "print(min, max)"
   ]
  },
  {
   "cell_type": "code",
   "execution_count": 8,
   "metadata": {},
   "outputs": [
    {
     "name": "stdout",
     "output_type": "stream",
     "text": [
      "0\n",
      "EVEN\n"
     ]
    }
   ],
   "source": [
    "def isEven(n):\n",
    "    return n % 2 == 0\n",
    "n = int(input())\n",
    "if isEven(n):\n",
    "    print('EVEN')\n",
    "else:\n",
    "    print('ODD')"
   ]
  },
  {
   "cell_type": "code",
   "execution_count": 14,
   "metadata": {},
   "outputs": [
    {
     "name": "stdout",
     "output_type": "stream",
     "text": [
      "0.5\n",
      "0.5\n",
      "YES\n"
     ]
    }
   ],
   "source": [
    "def IsPointInSquare(x, y):\n",
    "    return -1 <= x <= 1 and -1 <= y <= 1\n",
    "x = float(input())\n",
    "y = float(input())\n",
    "if IsPointInSquare(x, y):\n",
    "    print('YES')\n",
    "else:\n",
    "    print('NO')"
   ]
  },
  {
   "cell_type": "code",
   "execution_count": 2,
   "metadata": {},
   "outputs": [
    {
     "name": "stdout",
     "output_type": "stream",
     "text": [
      "0.5\n",
      "0.5\n",
      "1\n",
      "1\n",
      "0.1\n",
      "NO\n"
     ]
    }
   ],
   "source": [
    "def IsPointInCircle(x, y, xc, yc, r):\n",
    "    return (x - xc) ** 2 + (y - yc) ** 2 <= r ** 2\n",
    "x = float(input())\n",
    "y = float(input())\n",
    "xc = float(input())\n",
    "yc = float(input())\n",
    "r = float(input())\n",
    "if IsPointInCircle(x, y, xc, yc, r):\n",
    "    print('YES')\n",
    "else:\n",
    "    print('NO')"
   ]
  },
  {
   "cell_type": "code",
   "execution_count": 11,
   "metadata": {},
   "outputs": [
    {
     "name": "stdout",
     "output_type": "stream",
     "text": [
      "4\n",
      "2\n"
     ]
    }
   ],
   "source": [
    "def MinDivisor(n):\n",
    "    i = 2\n",
    "    while i <= n:\n",
    "        if n % i == 0:\n",
    "            break\n",
    "        elif i >= n ** 0.5:\n",
    "            return n\n",
    "            break\n",
    "        else:\n",
    "            i += 1\n",
    "    return i\n",
    "n = int(input())\n",
    "print(MinDivisor(n))"
   ]
  },
  {
   "cell_type": "code",
   "execution_count": 3,
   "metadata": {},
   "outputs": [
    {
     "name": "stdout",
     "output_type": "stream",
     "text": [
      "1\n",
      "0\n"
     ]
    }
   ],
   "source": [
    "def f():\n",
    "    a = 1\n",
    "    print(a)\n",
    "a = 0\n",
    "f()\n",
    "print(a)"
   ]
  },
  {
   "cell_type": "code",
   "execution_count": 4,
   "metadata": {},
   "outputs": [
    {
     "name": "stdout",
     "output_type": "stream",
     "text": [
      "0\n",
      "1\n"
     ]
    }
   ],
   "source": [
    "def f():\n",
    "    global a\n",
    "    print(a)\n",
    "    a = 1\n",
    "a = 0\n",
    "f()\n",
    "print(a)"
   ]
  },
  {
   "cell_type": "code",
   "execution_count": 25,
   "metadata": {},
   "outputs": [
    {
     "name": "stdout",
     "output_type": "stream",
     "text": [
      "11\n",
      "YES\n"
     ]
    }
   ],
   "source": [
    "def IsPrime(n):\n",
    "    i = 2\n",
    "    while i < n:\n",
    "        if n % i == 0:\n",
    "            return 'NO'\n",
    "            break\n",
    "        elif i >= n ** 0.5:\n",
    "            return 'YES'\n",
    "            break\n",
    "        else:\n",
    "            i += 1\n",
    "    return 'YES'\n",
    "n = int(input())\n",
    "print(IsPrime(n))"
   ]
  },
  {
   "cell_type": "code",
   "execution_count": null,
   "metadata": {
    "collapsed": true
   },
   "outputs": [],
   "source": []
  }
 ],
 "metadata": {
  "kernelspec": {
   "display_name": "Python 3",
   "language": "python",
   "name": "python3"
  },
  "language_info": {
   "codemirror_mode": {
    "name": "ipython",
    "version": 3
   },
   "file_extension": ".py",
   "mimetype": "text/x-python",
   "name": "python",
   "nbconvert_exporter": "python",
   "pygments_lexer": "ipython3",
   "version": "3.6.1"
  }
 },
 "nbformat": 4,
 "nbformat_minor": 2
}
