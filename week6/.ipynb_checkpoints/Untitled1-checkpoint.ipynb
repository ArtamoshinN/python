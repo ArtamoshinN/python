{
 "cells": [
  {
   "cell_type": "code",
   "execution_count": 43,
   "metadata": {},
   "outputs": [
    {
     "name": "stdout",
     "output_type": "stream",
     "text": [
      "0.0 0.0 0.0\n"
     ]
    }
   ],
   "source": [
    "k = open('input.txt', 'r', encoding='utf8')\n",
    "class Student:\n",
    "    sname = ''\n",
    "    name = ''\n",
    "    nc = 0\n",
    "    b = 0\n",
    "q = k.readlines()\n",
    "n = len(k.readlines())\n",
    "c9 = 0\n",
    "c10 = 0\n",
    "c11 = 0\n",
    "k9 = 1\n",
    "k10 = 1\n",
    "k11 = 1\n",
    "for i in range(n):\n",
    "    sname, name, nc, b = k.readline().split()\n",
    "    nc = int(nc)\n",
    "    b = int(b)\n",
    "    st = Student()\n",
    "    st.nc = nc\n",
    "    st.b = b\n",
    "    if st.nc == 9:\n",
    "        c9 += st.b\n",
    "        k9 += 1\n",
    "    elif st.nc == 10:\n",
    "        c10 += st.b\n",
    "        k10 += 1\n",
    "    elif st.nc == 11:\n",
    "        c11 += st.b\n",
    "        k11 += 1\n",
    "print(c9 / k9, c10 / k10, c11 / k11)"
   ]
  },
  {
   "cell_type": "code",
   "execution_count": 78,
   "metadata": {},
   "outputs": [
    {
     "name": "stdout",
     "output_type": "stream",
     "text": [
      "91.5 91.0 92.0\n"
     ]
    }
   ],
   "source": [
    "k = open('input.txt', 'r', encoding='utf8')\n",
    "k = list(k.readlines())\n",
    "n = len(k)\n",
    "\n",
    "class Student:\n",
    "    sname = ''\n",
    "    name = ''\n",
    "    nc = 0\n",
    "    b = 0\n",
    "    \n",
    "c9 = 0\n",
    "c10 = 0\n",
    "c11 = 0\n",
    "k9 = 0\n",
    "k10 = 0\n",
    "k11 = 0\n",
    "for i in range(n):\n",
    "    l = list(k[i].split())\n",
    "    sname, name, nc, b = l\n",
    "    nc = int(nc)\n",
    "    b = int(b)\n",
    "    st = Student()\n",
    "    st.nc = nc\n",
    "    st.b = b\n",
    "    if st.nc == 9:\n",
    "        c9 += st.b\n",
    "        k9 += 1\n",
    "    elif st.nc == 10:\n",
    "        c10 += st.b\n",
    "        k10 += 1\n",
    "    elif st.nc == 11:\n",
    "        c11 += st.b\n",
    "        k11 += 1\n",
    "print(c9 / k9, c10 / k10, c11 / k11)"
   ]
  },
  {
   "cell_type": "code",
   "execution_count": 4,
   "metadata": {
    "collapsed": true
   },
   "outputs": [],
   "source": [
    "n = open('input.txt', 'r', encoding='utf8')\n",
    "m = open('output.txt', 'w', encoding='utf8')\n",
    "k = list(n.readlines())\n",
    "n = len(k)\n",
    "p = []\n",
    "\n",
    "\n",
    "class Student:\n",
    "    sname = ''\n",
    "    name = ''\n",
    "    nc = 0\n",
    "    b = 0\n",
    "for i in range(n):\n",
    "    l = list(k[i].split())\n",
    "    l.remove(l[-2])\n",
    "    sname, name, b = l\n",
    "    b = int(b)\n",
    "    st = Student()\n",
    "    st.sname = sname\n",
    "    st.name = name\n",
    "    st.b = b\n",
    "    p.append(st)\n",
    "\n",
    "\n",
    "def name(st):\n",
    "    return (st.sname, st.name, st.b, st.nc)\n",
    "p.sort(key=name)\n",
    "for now in p:\n",
    "    print(now.sname, now.name, now.b, file=m)\n",
    "m.close()"
   ]
  },
  {
   "cell_type": "code",
   "execution_count": 7,
   "metadata": {},
   "outputs": [
    {
     "name": "stdout",
     "output_type": "stream",
     "text": [
      "2 1 3 5\n",
      "1 0 2 3 \n",
      "[(1, 1), (2, 0), (3, 2), (5, 3)]\n"
     ]
    }
   ],
   "source": [
    "myList = list(map(int, input().split()))\n",
    "newList = []\n",
    "for i in range(len(myList)):\n",
    "    newList.append((myList[i], i))\n",
    "newList.sort()\n",
    "for now in newList:\n",
    "    print(now[1], end=' ')\n",
    "print()\n",
    "print(newList)"
   ]
  },
  {
   "cell_type": "code",
   "execution_count": 20,
   "metadata": {},
   "outputs": [
    {
     "name": "stdout",
     "output_type": "stream",
     "text": [
      "0 1 0 10 0 9 10 10 2\n",
      "0 0 0 1 2 9 10 10 10 "
     ]
    }
   ],
   "source": [
    "myList = list(map(int, input().split()))\n",
    "grades = [0] * 11\n",
    "for now in myList:\n",
    "    grades[now] += 1\n",
    "for grade in range(len(grades)):\n",
    "    for i in range(grades[grade]):\n",
    "        print(grade, end=' ')"
   ]
  },
  {
   "cell_type": "code",
   "execution_count": 16,
   "metadata": {},
   "outputs": [
    {
     "name": "stdout",
     "output_type": "stream",
     "text": [
      "4 0 8 3 5\n",
      "0\n",
      "0\n"
     ]
    }
   ],
   "source": [
    "myList = list(map(int, input().split()))\n",
    "myList.sort()\n",
    "print(myList[0])#O(nLogn)\n",
    "print(min(myList))#O(n)\n"
   ]
  },
  {
   "cell_type": "code",
   "execution_count": 25,
   "metadata": {},
   "outputs": [
    {
     "name": "stdout",
     "output_type": "stream",
     "text": [
      "7 3 4 2 5\n",
      "2 3 4 5 7 "
     ]
    }
   ],
   "source": [
    "n = list(map(int, input().split()))\n",
    "o = [0] * 101\n",
    "\n",
    "\n",
    "def CountSort(n):\n",
    "    for now in n:\n",
    "        o[now] += 1\n",
    "    for nowo in range(len(o)):\n",
    "        print((str(nowo) + ' ') * o[nowo], end='')\n",
    "CountSort(n)"
   ]
  },
  {
   "cell_type": "code",
   "execution_count": 9,
   "metadata": {},
   "outputs": [
    {
     "name": "stdout",
     "output_type": "stream",
     "text": [
      "3\n",
      "Ivanov 15\n",
      "Petrov 10\n",
      "Sidorov 20\n",
      "Sidorov\n",
      "Ivanov\n",
      "Petrov\n"
     ]
    }
   ],
   "source": [
    "n = int(input())\n",
    "p = []\n",
    "for i in range(n):\n",
    "    k = list(input().split())\n",
    "    k[1] = int(k[1])\n",
    "    p.append(k)\n",
    "\n",
    "\n",
    "def s(p):\n",
    "    return (-p[1], p[0])\n",
    "p.sort(key=s)\n",
    "for i in range(n):\n",
    "    print(p[i][0])"
   ]
  },
  {
   "cell_type": "code",
   "execution_count": null,
   "metadata": {
    "collapsed": true
   },
   "outputs": [],
   "source": [
    "Ivanov 15\n",
    "Petrov 10\n",
    "Sidorov 20"
   ]
  }
 ],
 "metadata": {
  "kernelspec": {
   "display_name": "Python 3",
   "language": "python",
   "name": "python3"
  },
  "language_info": {
   "codemirror_mode": {
    "name": "ipython",
    "version": 3
   },
   "file_extension": ".py",
   "mimetype": "text/x-python",
   "name": "python",
   "nbconvert_exporter": "python",
   "pygments_lexer": "ipython3",
   "version": "3.6.1"
  }
 },
 "nbformat": 4,
 "nbformat_minor": 2
}
