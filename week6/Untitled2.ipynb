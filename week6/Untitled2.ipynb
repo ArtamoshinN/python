{
 "cells": [
  {
   "cell_type": "code",
   "execution_count": 1,
   "metadata": {
    "collapsed": true
   },
   "outputs": [],
   "source": [
    "inp = open('input.txt', 'r', encoding='utf8')\n",
    "out = open('output.txt', 'w', encoding='utf8')\n",
    "n = inp.readline()\n",
    "k = int(n)\n",
    "n = inp.readlines()\n",
    "p = []\n",
    "for i in n:\n",
    "    if len(i.split()) == 5:\n",
    "        n1, n2, s1, s2, s3 = i.split()\n",
    "    if len(i.split()) == 6:\n",
    "        n1, n2, n3, s1, s2, s3 = i.split()\n",
    "    if int(s1) >= 40 and int(s2) >= 40 and int(s3) >= 40:\n",
    "        sum = int(int(s1) + int(s2) + int(s3))\n",
    "    else:\n",
    "        sum = 0\n",
    "    p.append(sum)\n",
    "p.sort(reverse=True)\n",
    "q = 0\n",
    "if len(p) - p.count(0) == k:\n",
    "    print(0, file=out)\n",
    "elif p.count(max(p)) > k:\n",
    "    print(1, file=out)\n",
    "else:\n",
    "    i = 0\n",
    "    while k - p.count(p[i]) >= 0 and i != len(p):\n",
    "        if p[i] != p[i + 1]:\n",
    "            k = k - p.count(p[i])\n",
    "            q = p[i]\n",
    "        i += 1\n",
    "    print(q, file=out)\n",
    "out.close()"
   ]
  },
  {
   "cell_type": "code",
   "execution_count": 1,
   "metadata": {},
   "outputs": [
    {
     "name": "stdout",
     "output_type": "stream",
     "text": [
      "200\n"
     ]
    }
   ],
   "source": [
    "inp = open('input.txt', 'r', encoding='utf8')\n",
    "out = open('output.txt', 'w', encoding='utf8')\n",
    "k = int(inp.readline())\n",
    "p = []\n",
    "for i in inp:\n",
    "    n = i.split()\n",
    "    if int(n[-1]) >= 40 and int(n[-2]) >= 40 \\\n",
    "            and int(n[-3]) >= 40:\n",
    "        p.append(n)\n",
    "p.sort(key=lambda a: int(a[-1]) + int(a[-2]) + int(a[-3]))\n",
    "p.reverse()\n",
    "t = []\n",
    "for i in p:\n",
    "    sum = int(i[-1]) + int(i[-2]) + int(i[-3])\n",
    "    t.append(sum)\n",
    "m = len(t)\n",
    "\n",
    "\n",
    "def kto(m, k, t):\n",
    "    if m <= k:\n",
    "        return 0\n",
    "    elif t.count(max(t)) > k:\n",
    "        return 1\n",
    "    for i in range(k, 0, -1):\n",
    "        if t[i] < t[i - 1]:\n",
    "            return t[i - 1]\n",
    "\n",
    "\n",
    "print(kto(m, k, t))"
   ]
  },
  {
   "cell_type": "code",
   "execution_count": 3,
   "metadata": {},
   "outputs": [
    {
     "name": "stdout",
     "output_type": "stream",
     "text": [
      "4\n",
      "4 5 7\n",
      "1\n"
     ]
    }
   ],
   "source": [
    "n = int(input())\n",
    "r = list(map(int, input().split()))\n",
    "r = sorted(r)\n",
    "t = []\n",
    "for i in range(len(r)):\n",
    "    if r[i] >= n:\n",
    "        t.append(r[i])\n",
    "if len(t) >= 1:\n",
    "    k = 1\n",
    "    for i in range(len(t) - 1):\n",
    "        if t[i + 1] - t[i] >= 3:\n",
    "            k += 1\n",
    "else:\n",
    "    k = 0\n",
    "print(k)"
   ]
  },
  {
   "cell_type": "code",
   "execution_count": null,
   "metadata": {
    "collapsed": true
   },
   "outputs": [],
   "source": []
  }
 ],
 "metadata": {
  "kernelspec": {
   "display_name": "Python 3",
   "language": "python",
   "name": "python3"
  },
  "language_info": {
   "codemirror_mode": {
    "name": "ipython",
    "version": 3
   },
   "file_extension": ".py",
   "mimetype": "text/x-python",
   "name": "python",
   "nbconvert_exporter": "python",
   "pygments_lexer": "ipython3",
   "version": "3.6.1"
  }
 },
 "nbformat": 4,
 "nbformat_minor": 2
}
