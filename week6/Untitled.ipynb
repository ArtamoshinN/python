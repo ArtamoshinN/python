{
 "cells": [
  {
   "cell_type": "code",
   "execution_count": 25,
   "metadata": {},
   "outputs": [
    {
     "name": "stdout",
     "output_type": "stream",
     "text": [
      "1 2 3\n",
      "1 2\n",
      "1 1 2 2 3\n"
     ]
    }
   ],
   "source": [
    "def merge(a, b):\n",
    "    d = a + b\n",
    "    c = []\n",
    "    for i in range(len(d)):\n",
    "        m = min(d)\n",
    "        c.append(m)\n",
    "        d.remove(m)\n",
    "    return c\n",
    "a = list(map(int, input().split()))\n",
    "b = list(map(int, input().split()))\n",
    "print(*merge(a, b))"
   ]
  },
  {
   "cell_type": "code",
   "execution_count": 2,
   "metadata": {},
   "outputs": [
    {
     "name": "stdout",
     "output_type": "stream",
     "text": [
      "1 2 3\n",
      "1 2\n",
      "1 1 2 2 3\n"
     ]
    }
   ],
   "source": [
    "import heapq\n",
    "\n",
    "\n",
    "def merge(a, b):\n",
    "    c = heapq.merge(a, b)\n",
    "    return c\n",
    "a = list(map(int, input().split()))\n",
    "b = list(map(int, input().split()))\n",
    "print(*merge(a, b))"
   ]
  },
  {
   "cell_type": "code",
   "execution_count": 9,
   "metadata": {},
   "outputs": [
    {
     "name": "stdout",
     "output_type": "stream",
     "text": [
      "1 2 3\n",
      "1 2 3\n",
      "1 2 3 4 5 6 7 8 9\n",
      "a b c d\n",
      "3 2 1\n"
     ]
    }
   ],
   "source": [
    "a = [3, 1, 2]\n",
    "a.sort()\n",
    "print(*a)\n",
    "b = sorted(a)#копирует сортированный список\n",
    "print(*b)\n",
    "b = sorted(range(1, 10))\n",
    "print(*b)\n",
    "b = sorted('dbac')\n",
    "print(*b)\n",
    "b = sorted(a, reverse=True)\n",
    "print(*b)"
   ]
  },
  {
   "cell_type": "code",
   "execution_count": 17,
   "metadata": {},
   "outputs": [
    {
     "name": "stdout",
     "output_type": "stream",
     "text": [
      "True\n",
      "True\n"
     ]
    },
    {
     "ename": "TypeError",
     "evalue": "'<' not supported between instances of 'int' and 'str'",
     "output_type": "error",
     "traceback": [
      "\u001b[0;31m---------------------------------------------------------------------------\u001b[0m",
      "\u001b[0;31mTypeError\u001b[0m                                 Traceback (most recent call last)",
      "\u001b[0;32m<ipython-input-17-fffd5b756694>\u001b[0m in \u001b[0;36m<module>\u001b[0;34m()\u001b[0m\n\u001b[1;32m      1\u001b[0m \u001b[0mprint\u001b[0m\u001b[0;34m(\u001b[0m\u001b[0;34m(\u001b[0m\u001b[0;36m1\u001b[0m\u001b[0;34m,\u001b[0m \u001b[0;36m2\u001b[0m\u001b[0;34m)\u001b[0m \u001b[0;34m<\u001b[0m \u001b[0;34m(\u001b[0m\u001b[0;36m1\u001b[0m\u001b[0;34m,\u001b[0m \u001b[0;36m4\u001b[0m\u001b[0;34m)\u001b[0m\u001b[0;34m)\u001b[0m\u001b[0;34m\u001b[0m\u001b[0m\n\u001b[1;32m      2\u001b[0m \u001b[0mprint\u001b[0m\u001b[0;34m(\u001b[0m\u001b[0;34m(\u001b[0m\u001b[0;36m1\u001b[0m\u001b[0;34m,\u001b[0m \u001b[0;36m2\u001b[0m\u001b[0;34m)\u001b[0m \u001b[0;34m<\u001b[0m \u001b[0;34m(\u001b[0m\u001b[0;36m2\u001b[0m\u001b[0;34m,\u001b[0m \u001b[0;34m'abc'\u001b[0m\u001b[0;34m)\u001b[0m\u001b[0;34m)\u001b[0m\u001b[0;34m\u001b[0m\u001b[0m\n\u001b[0;32m----> 3\u001b[0;31m \u001b[0mprint\u001b[0m\u001b[0;34m(\u001b[0m\u001b[0;34m(\u001b[0m\u001b[0;36m1\u001b[0m\u001b[0;34m,\u001b[0m \u001b[0;36m2\u001b[0m\u001b[0;34m)\u001b[0m \u001b[0;34m<\u001b[0m \u001b[0;34m(\u001b[0m\u001b[0;36m1\u001b[0m\u001b[0;34m,\u001b[0m \u001b[0;34m'abc'\u001b[0m\u001b[0;34m)\u001b[0m\u001b[0;34m)\u001b[0m\u001b[0;34m\u001b[0m\u001b[0m\n\u001b[0m",
      "\u001b[0;31mTypeError\u001b[0m: '<' not supported between instances of 'int' and 'str'"
     ]
    }
   ],
   "source": [
    "print((1, 2) < (1, 4))\n",
    "print((1, 2) < (2, 'abc'))\n",
    "print((1, 2) < (1, 'abc'))"
   ]
  },
  {
   "cell_type": "code",
   "execution_count": 19,
   "metadata": {},
   "outputs": [
    {
     "name": "stdout",
     "output_type": "stream",
     "text": [
      "(172, 'Fedya') (172, 'Vasya') (180, 'Petya')\n"
     ]
    }
   ],
   "source": [
    "p = [(172, 'Vasya'),\n",
    "    (180, 'Petya'),\n",
    "    (172, 'Fedya')]\n",
    "p.sort()\n",
    "print(*p)"
   ]
  },
  {
   "cell_type": "code",
   "execution_count": 20,
   "metadata": {},
   "outputs": [
    {
     "name": "stdout",
     "output_type": "stream",
     "text": [
      "(180, 'Petya') (172, 'Vasya') (172, 'Fedya')\n"
     ]
    }
   ],
   "source": [
    "p = [(172, 'Vasya'),\n",
    "    (180, 'Petya'),\n",
    "    (172, 'Fedya')]\n",
    "p.sort(reverse=True)\n",
    "print(*p)"
   ]
  },
  {
   "cell_type": "code",
   "execution_count": 1,
   "metadata": {},
   "outputs": [
    {
     "name": "stdout",
     "output_type": "stream",
     "text": [
      "[0, 2, 4, 6, 8, 10]\n"
     ]
    }
   ],
   "source": [
    "print(sorted(range(10, -1, -2)))"
   ]
  },
  {
   "cell_type": "code",
   "execution_count": 5,
   "metadata": {},
   "outputs": [
    {
     "name": "stdout",
     "output_type": "stream",
     "text": [
      "3\n",
      "2 3 1\n",
      "1 2 3\n"
     ]
    }
   ],
   "source": [
    "k = int(input())\n",
    "n = list(map(int, input().split()))\n",
    "n.sort()\n",
    "print(*n)"
   ]
  },
  {
   "cell_type": "code",
   "execution_count": 2,
   "metadata": {},
   "outputs": [
    {
     "name": "stdout",
     "output_type": "stream",
     "text": [
      "100 3\n",
      "50\n",
      "30\n",
      "50\n",
      "2\n"
     ]
    }
   ],
   "source": [
    "n = list(map(int, input().split()))\n",
    "c = []\n",
    "k = 0\n",
    "for i in range(n[1]):\n",
    "    a = int(input())\n",
    "    c.append(a)\n",
    "for i in range(n[1]):\n",
    "    a = min(c)\n",
    "    c.remove(a)\n",
    "    if n[0] - a >= 0:\n",
    "        n[0] = n[0] - a\n",
    "        k += 1\n",
    "print(k)"
   ]
  },
  {
   "cell_type": "code",
   "execution_count": 5,
   "metadata": {},
   "outputs": [
    {
     "name": "stdout",
     "output_type": "stream",
     "text": [
      "(180, 'Petya') (172, 'Fedya') (172, 'Vasya')\n"
     ]
    }
   ],
   "source": [
    "p = [(-172, 'Vasya'),\n",
    "    (-180, 'Petya'),\n",
    "    (-172, 'Fedya')]\n",
    "p.sort()\n",
    "for i in range(len(p)):\n",
    "    p[i] = (-p[i][0], p[i][1])\n",
    "print(*p)"
   ]
  },
  {
   "cell_type": "code",
   "execution_count": 12,
   "metadata": {},
   "outputs": [
    {
     "name": "stdout",
     "output_type": "stream",
     "text": [
      "(180, 'Petya') (172, 'Fedya') (172, 'Vasya')\n"
     ]
    }
   ],
   "source": [
    "p = [(172, 'Vasya'),\n",
    "    (180, 'Petya'),\n",
    "    (172, 'Fedya')]\n",
    "def mTuple(p):\n",
    "    return (-p[0], p[1])\n",
    "p.sort(key=mTuple)\n",
    "print(*p)"
   ]
  },
  {
   "cell_type": "code",
   "execution_count": 9,
   "metadata": {},
   "outputs": [
    {
     "name": "stdout",
     "output_type": "stream",
     "text": [
      "bc xyz abcd abdd\n"
     ]
    }
   ],
   "source": [
    "ls = ['abcd', 'bc', 'xyz', 'abdd']\n",
    "ls.sort(key=len)\n",
    "print(*ls)"
   ]
  },
  {
   "cell_type": "code",
   "execution_count": 43,
   "metadata": {},
   "outputs": [
    {
     "name": "stdout",
     "output_type": "stream",
     "text": [
      "(1, 11) (5, 5) (10, 1)\n",
      "(5, 5) (10, 1) (1, 11)\n"
     ]
    }
   ],
   "source": [
    "p = [\n",
    "    (1, 11),\n",
    "    (10, 1),\n",
    "    (5, 5)\n",
    "]\n",
    "p.sort()\n",
    "print(*p)\n",
    "def sqrDist(p):\n",
    "    return p[0] ** 2 + p[1] ** 2\n",
    "p.sort(key=sqrDist)\n",
    "print(*p)"
   ]
  },
  {
   "cell_type": "code",
   "execution_count": 24,
   "metadata": {},
   "outputs": [
    {
     "name": "stdout",
     "output_type": "stream",
     "text": [
      "10\n",
      "79 64 13 8 38 29 58 20 56 17\n",
      "10\n",
      "53 19 20 85 82 39 58 46 51 69\n",
      "5 10 2 2 6 3 7 3 7 2 "
     ]
    }
   ],
   "source": [
    "n = int(input())\n",
    "m = list(map(int, input().split()))\n",
    "a = int(input())\n",
    "b = list(map(int, input().split()))\n",
    "for j in range(len(m)):\n",
    "    k = 100000\n",
    "    for i in range(len(b)):\n",
    "        if abs(b[i] - m[j]) < k:\n",
    "            k = abs(b[i] - m[j])\n",
    "            d = i + 1\n",
    "    print(d, end=' ')"
   ]
  },
  {
   "cell_type": "code",
   "execution_count": 38,
   "metadata": {},
   "outputs": [
    {
     "name": "stdout",
     "output_type": "stream",
     "text": [
      "10\n",
      "79 64 13 8 38 29 58 20 56 17\n",
      "10\n",
      "53 19 20 85 82 39 58 46 51 69\n",
      "2 9 9 9 9 9 9 9 9 9 (8, 4) (13, 3) (17, 10) (20, 8) (29, 6) (38, 5) (56, 9) (58, 7) (64, 2) (79, 1)\n",
      "(19, 2) (20, 3) (39, 6) (46, 8) (51, 9) (53, 1) (58, 7) (69, 10) (82, 5) (85, 4)\n"
     ]
    }
   ],
   "source": [
    "n = int(input())\n",
    "m = list(map(int, input().split()))\n",
    "for i in range(n):\n",
    "    m[i] = (m[i], i + 1)\n",
    "a = int(input())\n",
    "b = list(map(int, input().split()))\n",
    "for i in range(a):\n",
    "    b[i] = (b[i], i + 1)\n",
    "m.sort()\n",
    "b.sort()\n",
    "for j in range(n):\n",
    "    for i in range(a):\n",
    "        if m[0][0] < b[0][0] and j == 0:\n",
    "            d = b[0][1]\n",
    "            i = a - 1\n",
    "        elif m[n - 1][0] > b[a - 1][0] and i == a - 1:\n",
    "            d = b[a - 1][1]\n",
    "            i = a - 1\n",
    "        elif i + 1 != a:\n",
    "            if abs(b[i][0] - m[j][0]) < abs(b[i + 1][0] - m[j][0]):\n",
    "                d = i + 1\n",
    "                i = a - 1\n",
    "    d = d.append()\n",
    "print(*m)\n",
    "print(*b)"
   ]
  },
  {
   "cell_type": "code",
   "execution_count": 45,
   "metadata": {},
   "outputs": [
    {
     "name": "stdout",
     "output_type": "stream",
     "text": [
      "4\n",
      "1 2 6 10\n",
      "2\n",
      "7 3\n",
      "(1, 1) (2, 2) (6, 3) (10, 4)\n",
      "(7, 1) (3, 2)\n"
     ]
    },
    {
     "ename": "IndexError",
     "evalue": "tuple index out of range",
     "output_type": "error",
     "traceback": [
      "\u001b[0;31m---------------------------------------------------------------------------\u001b[0m",
      "\u001b[0;31mIndexError\u001b[0m                                Traceback (most recent call last)",
      "\u001b[0;32m<ipython-input-45-15ce73ff83d7>\u001b[0m in \u001b[0;36m<module>\u001b[0;34m()\u001b[0m\n\u001b[1;32m     12\u001b[0m     \u001b[0mk\u001b[0m \u001b[0;34m=\u001b[0m \u001b[0;36m100000\u001b[0m\u001b[0;34m\u001b[0m\u001b[0m\n\u001b[1;32m     13\u001b[0m     \u001b[0;32mfor\u001b[0m \u001b[0mj\u001b[0m \u001b[0;32min\u001b[0m \u001b[0mrange\u001b[0m\u001b[0;34m(\u001b[0m\u001b[0ma\u001b[0m\u001b[0;34m)\u001b[0m\u001b[0;34m:\u001b[0m\u001b[0;34m\u001b[0m\u001b[0m\n\u001b[0;32m---> 14\u001b[0;31m         \u001b[0;32mif\u001b[0m \u001b[0mabs\u001b[0m\u001b[0;34m(\u001b[0m\u001b[0mb\u001b[0m\u001b[0;34m[\u001b[0m\u001b[0mj\u001b[0m\u001b[0;34m]\u001b[0m\u001b[0;34m[\u001b[0m\u001b[0;36m0\u001b[0m\u001b[0;34m]\u001b[0m \u001b[0;34m-\u001b[0m \u001b[0mm\u001b[0m\u001b[0;34m[\u001b[0m\u001b[0mi\u001b[0m\u001b[0;34m]\u001b[0m\u001b[0;34m[\u001b[0m\u001b[0;36m9\u001b[0m\u001b[0;34m]\u001b[0m\u001b[0;34m)\u001b[0m \u001b[0;34m<\u001b[0m \u001b[0mk\u001b[0m\u001b[0;34m:\u001b[0m\u001b[0;34m\u001b[0m\u001b[0m\n\u001b[0m\u001b[1;32m     15\u001b[0m             \u001b[0mk\u001b[0m \u001b[0;34m=\u001b[0m \u001b[0mabs\u001b[0m\u001b[0;34m(\u001b[0m\u001b[0mb\u001b[0m\u001b[0;34m[\u001b[0m\u001b[0mj\u001b[0m\u001b[0;34m]\u001b[0m\u001b[0;34m[\u001b[0m\u001b[0;36m0\u001b[0m\u001b[0;34m]\u001b[0m \u001b[0;34m-\u001b[0m \u001b[0mm\u001b[0m\u001b[0;34m[\u001b[0m\u001b[0mi\u001b[0m\u001b[0;34m]\u001b[0m\u001b[0;34m[\u001b[0m\u001b[0;36m0\u001b[0m\u001b[0;34m]\u001b[0m\u001b[0;34m)\u001b[0m\u001b[0;34m\u001b[0m\u001b[0m\n\u001b[1;32m     16\u001b[0m             \u001b[0md\u001b[0m \u001b[0;34m=\u001b[0m \u001b[0mb\u001b[0m\u001b[0;34m[\u001b[0m\u001b[0mj\u001b[0m\u001b[0;34m]\u001b[0m\u001b[0;34m[\u001b[0m\u001b[0;36m1\u001b[0m\u001b[0;34m]\u001b[0m\u001b[0;34m\u001b[0m\u001b[0m\n",
      "\u001b[0;31mIndexError\u001b[0m: tuple index out of range"
     ]
    }
   ],
   "source": [
    "n = int(input())\n",
    "m = list(map(int, input().split()))\n",
    "for i in range(n):\n",
    "    m[i] = (m[i], i + 1)\n",
    "a = int(input())\n",
    "b = list(map(int, input().split()))\n",
    "for i in range(a):\n",
    "    b[i] = (b[i], i + 1)\n",
    "print(*m)\n",
    "print(*b)\n",
    "for i in range(n):\n",
    "    k = 100000\n",
    "    for j in range(a):\n",
    "        if abs(b[j][0] - m[i][9]) <= k:\n",
    "            k = abs(b[j][0] - m[i][0])\n",
    "            d = b[j][1]\n",
    "    print(d, end=' ')"
   ]
  },
  {
   "cell_type": "code",
   "execution_count": 51,
   "metadata": {},
   "outputs": [
    {
     "name": "stdout",
     "output_type": "stream",
     "text": [
      "4\n",
      "1 6 2 10\n",
      "2\n",
      "7 3\n",
      "[1, 2, 6, 10]\n",
      "[3, 7]\n"
     ]
    },
    {
     "ename": "IndexError",
     "evalue": "list index out of range",
     "output_type": "error",
     "traceback": [
      "\u001b[0;31m---------------------------------------------------------------------------\u001b[0m",
      "\u001b[0;31mIndexError\u001b[0m                                Traceback (most recent call last)",
      "\u001b[0;32m<ipython-input-51-9314b6efc0c2>\u001b[0m in \u001b[0;36m<module>\u001b[0;34m()\u001b[0m\n\u001b[1;32m      9\u001b[0m \u001b[0;32mfor\u001b[0m \u001b[0mi\u001b[0m \u001b[0;32min\u001b[0m \u001b[0mrange\u001b[0m\u001b[0;34m(\u001b[0m\u001b[0mn\u001b[0m\u001b[0;34m)\u001b[0m\u001b[0;34m:\u001b[0m\u001b[0;34m\u001b[0m\u001b[0m\n\u001b[1;32m     10\u001b[0m     \u001b[0;32mfor\u001b[0m \u001b[0mj\u001b[0m \u001b[0;32min\u001b[0m \u001b[0mrange\u001b[0m\u001b[0;34m(\u001b[0m\u001b[0ma\u001b[0m\u001b[0;34m)\u001b[0m\u001b[0;34m:\u001b[0m\u001b[0;34m\u001b[0m\u001b[0m\n\u001b[0;32m---> 11\u001b[0;31m         \u001b[0;32mif\u001b[0m \u001b[0mabs\u001b[0m\u001b[0;34m(\u001b[0m\u001b[0mb\u001b[0m\u001b[0;34m[\u001b[0m\u001b[0mj\u001b[0m\u001b[0;34m]\u001b[0m \u001b[0;34m-\u001b[0m \u001b[0mm\u001b[0m\u001b[0;34m[\u001b[0m\u001b[0mi\u001b[0m\u001b[0;34m]\u001b[0m\u001b[0;34m)\u001b[0m \u001b[0;34m<\u001b[0m \u001b[0mabs\u001b[0m\u001b[0;34m(\u001b[0m\u001b[0mb\u001b[0m\u001b[0;34m[\u001b[0m\u001b[0mj\u001b[0m \u001b[0;34m+\u001b[0m \u001b[0;36m1\u001b[0m\u001b[0;34m]\u001b[0m \u001b[0;34m-\u001b[0m \u001b[0mm\u001b[0m\u001b[0;34m[\u001b[0m\u001b[0mi\u001b[0m\u001b[0;34m]\u001b[0m\u001b[0;34m)\u001b[0m\u001b[0;34m:\u001b[0m\u001b[0;34m\u001b[0m\u001b[0m\n\u001b[0m\u001b[1;32m     12\u001b[0m             \u001b[0md\u001b[0m \u001b[0;34m=\u001b[0m \u001b[0mj\u001b[0m \u001b[0;34m+\u001b[0m \u001b[0;36m1\u001b[0m\u001b[0;34m\u001b[0m\u001b[0m\n\u001b[1;32m     13\u001b[0m     \u001b[0mprint\u001b[0m\u001b[0;34m(\u001b[0m\u001b[0md\u001b[0m\u001b[0;34m,\u001b[0m \u001b[0mend\u001b[0m\u001b[0;34m=\u001b[0m\u001b[0;34m' '\u001b[0m\u001b[0;34m)\u001b[0m\u001b[0;34m\u001b[0m\u001b[0m\n",
      "\u001b[0;31mIndexError\u001b[0m: list index out of range"
     ]
    }
   ],
   "source": [
    "n = int(input())\n",
    "m = list(map(int, input().split()))\n",
    "a = int(input())\n",
    "b = list(map(int, input().split()))\n",
    "m1 = sorted(m)\n",
    "b1 = sorted(b)\n",
    "print(m1)\n",
    "print(b1)\n",
    "for i in range(n):\n",
    "    for j in range(a):\n",
    "        if abs(b[j] - m[i]) < abs(b[j + 1] - m[i]):\n",
    "            d = j + 1\n",
    "    print(d, end=' ')"
   ]
  },
  {
   "cell_type": "code",
   "execution_count": 1,
   "metadata": {},
   "outputs": [
    {
     "name": "stdout",
     "output_type": "stream",
     "text": [
      "4\n",
      "1 6 2 10\n",
      "2\n",
      "7 3\n",
      "2 1 2 1\n"
     ]
    }
   ],
   "source": [
    "n = int(input())\n",
    "a = map(int, input().split())\n",
    "m = int(input())\n",
    "b = list(map(int, input().split()))\n",
    "for i in range(len(b)):\n",
    "    b[i] = [i + 1, b[i]]\n",
    "b.sort(key=lambda x: x[1])\n",
    "\n",
    "\n",
    "def findvalue(x):\n",
    "    if(x < b[0][1]):\n",
    "        return b[0][0]\n",
    "    if(x > b[-1][1]):\n",
    "        return b[-1][0]\n",
    "    l = 0\n",
    "    r = len(b) - 1\n",
    "    while(r - l > 1):\n",
    "        m = (r + l) >> 1\n",
    "        if(b[m][1] < x):\n",
    "            l = m\n",
    "        else:\n",
    "            r = m\n",
    "    if(x - b[l][1] < b[r][1] - x):\n",
    "        return b[l][0]\n",
    "    else:\n",
    "        return b[r][0]\n",
    "print(*[findvalue(v) for v in a])"
   ]
  },
  {
   "cell_type": "code",
   "execution_count": 4,
   "metadata": {},
   "outputs": [
    {
     "name": "stdout",
     "output_type": "stream",
     "text": [
      "2\n",
      "180 vasya\n",
      "172 kiril\n",
      "172 kiril\n",
      "180 vasya\n"
     ]
    }
   ],
   "source": [
    "class Man:\n",
    "    height = 0\n",
    "    name = ''\n",
    "p = []\n",
    "n = int(input())\n",
    "for i in range(n):\n",
    "    h, n = input().split()\n",
    "    h = int(h)\n",
    "    man = Man()\n",
    "    man.height = h\n",
    "    man.name = n\n",
    "    p.append(man)\n",
    "def makeTuple(man):\n",
    "    return (man.height, man.name)\n",
    "p.sort(key=makeTuple)\n",
    "for now in p:\n",
    "    print(now.height, now.name)"
   ]
  },
  {
   "cell_type": "code",
   "execution_count": 4,
   "metadata": {},
   "outputs": [
    {
     "name": "stdout",
     "output_type": "stream",
     "text": [
      "(1, 1) (5, 5) (10, 1)\n"
     ]
    }
   ],
   "source": [
    "p = [\n",
    "    (1, 1),\n",
    "    (10, 1),\n",
    "    (5, 5)\n",
    "]\n",
    "p.sort(key=lambda p: p[0] ** 2 + p[1] ** 2)\n",
    "print(*p)"
   ]
  },
  {
   "cell_type": "code",
   "execution_count": 6,
   "metadata": {},
   "outputs": [
    {
     "name": "stdout",
     "output_type": "stream",
     "text": [
      "1 25 4 9\n"
     ]
    }
   ],
   "source": [
    "x = [1, 5, 2, 3]\n",
    "y = list(map(lambda x: x ** 2, x))\n",
    "print(*y)"
   ]
  },
  {
   "cell_type": "code",
   "execution_count": 15,
   "metadata": {},
   "outputs": [
    {
     "name": "stdout",
     "output_type": "stream",
     "text": [
      "1a2a3\n",
      "5 6 7\n"
     ]
    }
   ],
   "source": [
    "def printList(lst, mySep=' '):\n",
    "    for i in range(len(lst) -1 ):\n",
    "        print(lst[i], mySep, sep='', end='')\n",
    "    print(lst[-1], sep='')\n",
    "printList([1, 2, 3], mySep='a')\n",
    "printList([5, 6, 7])"
   ]
  },
  {
   "cell_type": "code",
   "execution_count": 16,
   "metadata": {},
   "outputs": [
    {
     "name": "stdout",
     "output_type": "stream",
     "text": [
      "10\n",
      "1\n"
     ]
    }
   ],
   "source": [
    "def mySum(*args):\n",
    "    return sum(args)\n",
    "print(mySum(1, 2, 3, 4))\n",
    "print(mySum(1))"
   ]
  },
  {
   "cell_type": "code",
   "execution_count": 19,
   "metadata": {},
   "outputs": [
    {
     "name": "stdout",
     "output_type": "stream",
     "text": [
      "2\n",
      "1\n"
     ]
    }
   ],
   "source": [
    "def myMin(first, *others):\n",
    "    nowMin = first\n",
    "    for now in others:\n",
    "        if now < nowMin:\n",
    "            nowMin = now\n",
    "    return nowMin\n",
    "print(myMin(5, 2, 3, 4))\n",
    "print(myMin(1))"
   ]
  },
  {
   "cell_type": "code",
   "execution_count": 71,
   "metadata": {},
   "outputs": [
    {
     "ename": "ValueError",
     "evalue": "invalid literal for int() with base 10: 'Сергеев Петр 10 91\\n'",
     "output_type": "error",
     "traceback": [
      "\u001b[0;31m---------------------------------------------------------------------------\u001b[0m",
      "\u001b[0;31mValueError\u001b[0m                                Traceback (most recent call last)",
      "\u001b[0;32m<ipython-input-71-69b47534e858>\u001b[0m in \u001b[0;36m<module>\u001b[0;34m()\u001b[0m\n\u001b[1;32m      1\u001b[0m \u001b[0mfin\u001b[0m \u001b[0;34m=\u001b[0m \u001b[0mopen\u001b[0m\u001b[0;34m(\u001b[0m\u001b[0;34m'input.txt'\u001b[0m\u001b[0;34m,\u001b[0m \u001b[0;34m'r'\u001b[0m\u001b[0;34m,\u001b[0m \u001b[0mencoding\u001b[0m\u001b[0;34m=\u001b[0m\u001b[0;34m'utf8'\u001b[0m\u001b[0;34m)\u001b[0m\u001b[0;31m#открываем файл input.txt, 'r' - read, encoding-кодировка\u001b[0m\u001b[0;34m\u001b[0m\u001b[0m\n\u001b[1;32m      2\u001b[0m \u001b[0ma\u001b[0m \u001b[0;34m=\u001b[0m \u001b[0mfin\u001b[0m\u001b[0;34m.\u001b[0m\u001b[0mreadline\u001b[0m\u001b[0;34m(\u001b[0m\u001b[0;34m)\u001b[0m\u001b[0;31m#считывает до конца строки\u001b[0m\u001b[0;34m\u001b[0m\u001b[0m\n\u001b[0;32m----> 3\u001b[0;31m \u001b[0mb\u001b[0m \u001b[0;34m=\u001b[0m \u001b[0mint\u001b[0m\u001b[0;34m(\u001b[0m\u001b[0mfin\u001b[0m\u001b[0;34m.\u001b[0m\u001b[0mreadline\u001b[0m\u001b[0;34m(\u001b[0m\u001b[0;34m)\u001b[0m\u001b[0;34m)\u001b[0m\u001b[0;31m#аналогично\u001b[0m\u001b[0;34m\u001b[0m\u001b[0m\n\u001b[0m\u001b[1;32m      4\u001b[0m \u001b[0mprint\u001b[0m\u001b[0;34m(\u001b[0m\u001b[0ma\u001b[0m\u001b[0;34m,\u001b[0m \u001b[0mb\u001b[0m\u001b[0;34m)\u001b[0m\u001b[0;34m\u001b[0m\u001b[0m\n\u001b[1;32m      5\u001b[0m \u001b[0mprint\u001b[0m\u001b[0;34m(\u001b[0m\u001b[0ma\u001b[0m \u001b[0;34m+\u001b[0m \u001b[0mb\u001b[0m\u001b[0;34m)\u001b[0m\u001b[0;34m\u001b[0m\u001b[0m\n",
      "\u001b[0;31mValueError\u001b[0m: invalid literal for int() with base 10: 'Сергеев Петр 10 91\\n'"
     ]
    }
   ],
   "source": [
    "fin = open('input.txt', 'r', encoding='utf8')#открываем файл input.txt, 'r' - read, encoding-кодировка\n",
    "a = int(fin.readline())#считывает до конца строки\n",
    "b = int(fin.readline())#аналогично\n",
    "print(a, b)\n",
    "print(a + b)"
   ]
  },
  {
   "cell_type": "code",
   "execution_count": 51,
   "metadata": {},
   "outputs": [
    {
     "name": "stdout",
     "output_type": "stream",
     "text": [
      "2 3\n"
     ]
    }
   ],
   "source": [
    "fin = open('input.txt', 'r', encoding='utf8')\n",
    "lines = fin.readlines()\n",
    "print(lines[0].strip(), lines[1].strip())#strip обрезает в начале и конце все пробельные знаки"
   ]
  },
  {
   "cell_type": "code",
   "execution_count": 18,
   "metadata": {},
   "outputs": [
    {
     "name": "stdout",
     "output_type": "stream",
     "text": [
      "3\n",
      "4\n"
     ]
    }
   ],
   "source": [
    "fin = open('input.txt', 'r', encoding='utf8')\n",
    "for line in fin:\n",
    "    print(int(line) + 1)"
   ]
  },
  {
   "cell_type": "code",
   "execution_count": 49,
   "metadata": {},
   "outputs": [
    {
     "name": "stdout",
     "output_type": "stream",
     "text": [
      "['2\\n3']\n",
      "0\n"
     ]
    }
   ],
   "source": [
    "fin = open('input.txt', 'r', encoding='utf8')\n",
    "s = fin.read()#считать все с пробельными знаками в одну строку\n",
    "print([s])\n",
    "fout = open('output.txt', 'w', encoding='utf8')#'w' - write то есть записать\n",
    "print(sum(map(int, fin.readlines())), file=fout)#выводим в файл, причем стирает то что было\n",
    "print(sum(map(int, fin.readlines())))\n",
    "fout.close()#закрываем файл чтобы все сохранилось в нем"
   ]
  },
  {
   "cell_type": "code",
   "execution_count": 2,
   "metadata": {},
   "outputs": [
    {
     "ename": "ValueError",
     "evalue": "invalid literal for int() with base 10: 'Иванов Сергей 70 70 70\\n'",
     "output_type": "error",
     "traceback": [
      "\u001b[0;31m---------------------------------------------------------------------------\u001b[0m",
      "\u001b[0;31mValueError\u001b[0m                                Traceback (most recent call last)",
      "\u001b[0;32m<ipython-input-2-316d61ce764f>\u001b[0m in \u001b[0;36m<module>\u001b[0;34m()\u001b[0m\n\u001b[1;32m      2\u001b[0m \u001b[0mfout\u001b[0m \u001b[0;34m=\u001b[0m \u001b[0mopen\u001b[0m\u001b[0;34m(\u001b[0m\u001b[0;34m'output.txt'\u001b[0m\u001b[0;34m,\u001b[0m \u001b[0;34m'w'\u001b[0m\u001b[0;34m,\u001b[0m \u001b[0mencoding\u001b[0m\u001b[0;34m=\u001b[0m\u001b[0;34m'utf8'\u001b[0m\u001b[0;34m)\u001b[0m\u001b[0;34m\u001b[0m\u001b[0m\n\u001b[1;32m      3\u001b[0m \u001b[0mk\u001b[0m \u001b[0;34m=\u001b[0m \u001b[0mfin\u001b[0m\u001b[0;34m.\u001b[0m\u001b[0mreadlines\u001b[0m\u001b[0;34m(\u001b[0m\u001b[0;34m)\u001b[0m\u001b[0;34m\u001b[0m\u001b[0m\n\u001b[0;32m----> 4\u001b[0;31m \u001b[0mprint\u001b[0m\u001b[0;34m(\u001b[0m\u001b[0msum\u001b[0m\u001b[0;34m(\u001b[0m\u001b[0mmap\u001b[0m\u001b[0;34m(\u001b[0m\u001b[0mint\u001b[0m\u001b[0;34m,\u001b[0m \u001b[0mk\u001b[0m\u001b[0;34m)\u001b[0m\u001b[0;34m)\u001b[0m\u001b[0;34m,\u001b[0m \u001b[0mfile\u001b[0m\u001b[0;34m=\u001b[0m\u001b[0mfout\u001b[0m\u001b[0;34m)\u001b[0m\u001b[0;34m\u001b[0m\u001b[0m\n\u001b[0m\u001b[1;32m      5\u001b[0m \u001b[0mfout\u001b[0m\u001b[0;34m.\u001b[0m\u001b[0mclose\u001b[0m\u001b[0;34m(\u001b[0m\u001b[0;34m)\u001b[0m\u001b[0;34m\u001b[0m\u001b[0m\n",
      "\u001b[0;31mValueError\u001b[0m: invalid literal for int() with base 10: 'Иванов Сергей 70 70 70\\n'"
     ]
    }
   ],
   "source": [
    "fin = open('input.txt', 'r', encoding='utf8')\n",
    "fout = open('output.txt', 'w', encoding='utf8')\n",
    "k = fin.readlines()\n",
    "print(sum(map(int, k)), file=fout)\n",
    "fout.close()"
   ]
  },
  {
   "cell_type": "code",
   "execution_count": 2,
   "metadata": {
    "collapsed": true
   },
   "outputs": [],
   "source": [
    "k = open('input.txt', 'r', encoding='utf8')\n",
    "class student():\n",
    "    sname = ''\n",
    "    name = ''\n",
    "    nc = 0\n",
    "    b = 0\n",
    "q = k.readlines()\n",
    "n = len(k.readlines())\n",
    "for i in range(n):\n",
    "    sname, name, nc, b = k.readline()\n",
    "    print(sname, name, nc, b)"
   ]
  },
  {
   "cell_type": "code",
   "execution_count": null,
   "metadata": {
    "collapsed": true
   },
   "outputs": [],
   "source": []
  },
  {
   "cell_type": "code",
   "execution_count": null,
   "metadata": {
    "collapsed": true
   },
   "outputs": [],
   "source": []
  }
 ],
 "metadata": {
  "kernelspec": {
   "display_name": "Python 3",
   "language": "python",
   "name": "python3"
  },
  "language_info": {
   "codemirror_mode": {
    "name": "ipython",
    "version": 3
   },
   "file_extension": ".py",
   "mimetype": "text/x-python",
   "name": "python",
   "nbconvert_exporter": "python",
   "pygments_lexer": "ipython3",
   "version": "3.6.1"
  }
 },
 "nbformat": 4,
 "nbformat_minor": 2
}
